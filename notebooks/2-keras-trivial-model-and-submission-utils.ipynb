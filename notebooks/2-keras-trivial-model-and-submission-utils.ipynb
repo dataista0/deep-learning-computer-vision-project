{
 "cells": [
  {
   "cell_type": "code",
   "execution_count": 5,
   "metadata": {},
   "outputs": [
    {
     "data": {
      "text/plain": [
       "((42000, 28, 28, 1), (42000, 10), (28000, 28, 28, 1))"
      ]
     },
     "execution_count": 5,
     "metadata": {},
     "output_type": "execute_result"
    }
   ],
   "source": [
    "%matplotlib inline\n",
    "\n",
    "import matplotlib.pyplot as plt\n",
    "import numpy as np\n",
    "import pandas as pd\n",
    "\n",
    "# We will build just a simple conv-dense model\n",
    "from keras import Sequential\n",
    "from keras.layers import Conv2D, Flatten, Dense\n",
    "\n",
    "# One-hot-encode categoricals\n",
    "from keras.utils import to_categorical\n",
    "\n",
    "\n",
    "# Visualize the network\n",
    "from IPython.display import SVG\n",
    "from keras.utils.vis_utils import model_to_dot\n",
    "\n",
    "\n",
    "train = pd.read_csv(\"../data/base/train.csv\")\n",
    "y_train = to_categorical(train.iloc[:, 0]) \n",
    "train = train.iloc[:, 1:]\n",
    "\n",
    "test = pd.read_csv(\"../data/base/test.csv\")\n",
    "\n",
    "X_train = train.values.reshape((train.shape[0], 28, 28, 1))\n",
    "X_test = test.values.reshape((test.shape[0], 28, 28, 1))\n",
    "\n",
    "X_train.shape, y_train.shape, X_test.shape"
   ]
  },
  {
   "cell_type": "markdown",
   "metadata": {},
   "source": [
    "# Simple Keras model"
   ]
  },
  {
   "cell_type": "code",
   "execution_count": 4,
   "metadata": {},
   "outputs": [],
   "source": [
    "def model1():\n",
    "    m = Sequential()\n",
    "    m.add(Conv2D(10, (4,4), input_shape=(28,28,1,)))\n",
    "    m.add(Flatten())\n",
    "    m.add(Dense(10, activation='softmax'))\n",
    "    m.compile(loss='categorical_crossentropy', optimizer='adam')\n",
    "    return m"
   ]
  },
  {
   "cell_type": "code",
   "execution_count": 6,
   "metadata": {},
   "outputs": [],
   "source": [
    "m = model1()"
   ]
  },
  {
   "cell_type": "code",
   "execution_count": 23,
   "metadata": {},
   "outputs": [
    {
     "data": {
      "image/svg+xml": [
       "<svg height=\"264pt\" viewBox=\"0.00 0.00 180.00 264.00\" width=\"180pt\" xmlns=\"http://www.w3.org/2000/svg\" xmlns:xlink=\"http://www.w3.org/1999/xlink\">\n",
       "<g class=\"graph\" id=\"graph0\" transform=\"scale(1 1) rotate(0) translate(4 260)\">\n",
       "<title>G</title>\n",
       "<polygon fill=\"white\" points=\"-4,4 -4,-260 176,-260 176,4 -4,4\" stroke=\"none\"/>\n",
       "<!-- 140531923737960 -->\n",
       "<g class=\"node\" id=\"node1\"><title>140531923737960</title>\n",
       "<polygon fill=\"none\" points=\"0,-219.5 0,-255.5 172,-255.5 172,-219.5 0,-219.5\" stroke=\"black\"/>\n",
       "<text font-family=\"Times,serif\" font-size=\"14.00\" text-anchor=\"middle\" x=\"86\" y=\"-233.8\">conv2d_1_input: InputLayer</text>\n",
       "</g>\n",
       "<!-- 140531923738464 -->\n",
       "<g class=\"node\" id=\"node2\"><title>140531923738464</title>\n",
       "<polygon fill=\"none\" points=\"24.5,-146.5 24.5,-182.5 147.5,-182.5 147.5,-146.5 24.5,-146.5\" stroke=\"black\"/>\n",
       "<text font-family=\"Times,serif\" font-size=\"14.00\" text-anchor=\"middle\" x=\"86\" y=\"-160.8\">conv2d_1: Conv2D</text>\n",
       "</g>\n",
       "<!-- 140531923737960&#45;&gt;140531923738464 -->\n",
       "<g class=\"edge\" id=\"edge1\"><title>140531923737960-&gt;140531923738464</title>\n",
       "<path d=\"M86,-219.313C86,-211.289 86,-201.547 86,-192.569\" fill=\"none\" stroke=\"black\"/>\n",
       "<polygon fill=\"black\" points=\"89.5001,-192.529 86,-182.529 82.5001,-192.529 89.5001,-192.529\" stroke=\"black\"/>\n",
       "</g>\n",
       "<!-- 140531923736392 -->\n",
       "<g class=\"node\" id=\"node3\"><title>140531923736392</title>\n",
       "<polygon fill=\"none\" points=\"31,-73.5 31,-109.5 141,-109.5 141,-73.5 31,-73.5\" stroke=\"black\"/>\n",
       "<text font-family=\"Times,serif\" font-size=\"14.00\" text-anchor=\"middle\" x=\"86\" y=\"-87.8\">flatten_1: Flatten</text>\n",
       "</g>\n",
       "<!-- 140531923738464&#45;&gt;140531923736392 -->\n",
       "<g class=\"edge\" id=\"edge2\"><title>140531923738464-&gt;140531923736392</title>\n",
       "<path d=\"M86,-146.313C86,-138.289 86,-128.547 86,-119.569\" fill=\"none\" stroke=\"black\"/>\n",
       "<polygon fill=\"black\" points=\"89.5001,-119.529 86,-109.529 82.5001,-119.529 89.5001,-119.529\" stroke=\"black\"/>\n",
       "</g>\n",
       "<!-- 140531926191968 -->\n",
       "<g class=\"node\" id=\"node4\"><title>140531926191968</title>\n",
       "<polygon fill=\"none\" points=\"35,-0.5 35,-36.5 137,-36.5 137,-0.5 35,-0.5\" stroke=\"black\"/>\n",
       "<text font-family=\"Times,serif\" font-size=\"14.00\" text-anchor=\"middle\" x=\"86\" y=\"-14.8\">dense_1: Dense</text>\n",
       "</g>\n",
       "<!-- 140531923736392&#45;&gt;140531926191968 -->\n",
       "<g class=\"edge\" id=\"edge3\"><title>140531923736392-&gt;140531926191968</title>\n",
       "<path d=\"M86,-73.3129C86,-65.2895 86,-55.5475 86,-46.5691\" fill=\"none\" stroke=\"black\"/>\n",
       "<polygon fill=\"black\" points=\"89.5001,-46.5288 86,-36.5288 82.5001,-46.5289 89.5001,-46.5288\" stroke=\"black\"/>\n",
       "</g>\n",
       "</g>\n",
       "</svg>"
      ],
      "text/plain": [
       "<IPython.core.display.SVG object>"
      ]
     },
     "metadata": {},
     "output_type": "display_data"
    }
   ],
   "source": [
    "def plot(model, show_shapes=False):\n",
    "    display(SVG(model_to_dot(model, show_shapes=show_shapes).create(prog='dot', format='svg')))\n",
    "    plt.show()\n",
    "    \n",
    "plot(m)"
   ]
  },
  {
   "cell_type": "code",
   "execution_count": 24,
   "metadata": {},
   "outputs": [
    {
     "data": {
      "image/svg+xml": [
       "<svg height=\"304pt\" viewBox=\"0.00 0.00 346.00 304.00\" width=\"346pt\" xmlns=\"http://www.w3.org/2000/svg\" xmlns:xlink=\"http://www.w3.org/1999/xlink\">\n",
       "<g class=\"graph\" id=\"graph0\" transform=\"scale(1 1) rotate(0) translate(4 300)\">\n",
       "<title>G</title>\n",
       "<polygon fill=\"white\" points=\"-4,4 -4,-300 342,-300 342,4 -4,4\" stroke=\"none\"/>\n",
       "<!-- 140531923737960 -->\n",
       "<g class=\"node\" id=\"node1\"><title>140531923737960</title>\n",
       "<polygon fill=\"none\" points=\"-2.84217e-14,-249.5 -2.84217e-14,-295.5 338,-295.5 338,-249.5 -2.84217e-14,-249.5\" stroke=\"black\"/>\n",
       "<text font-family=\"Times,serif\" font-size=\"14.00\" text-anchor=\"middle\" x=\"86\" y=\"-268.8\">conv2d_1_input: InputLayer</text>\n",
       "<polyline fill=\"none\" points=\"172,-249.5 172,-295.5 \" stroke=\"black\"/>\n",
       "<text font-family=\"Times,serif\" font-size=\"14.00\" text-anchor=\"middle\" x=\"199.5\" y=\"-280.3\">input:</text>\n",
       "<polyline fill=\"none\" points=\"172,-272.5 227,-272.5 \" stroke=\"black\"/>\n",
       "<text font-family=\"Times,serif\" font-size=\"14.00\" text-anchor=\"middle\" x=\"199.5\" y=\"-257.3\">output:</text>\n",
       "<polyline fill=\"none\" points=\"227,-249.5 227,-295.5 \" stroke=\"black\"/>\n",
       "<text font-family=\"Times,serif\" font-size=\"14.00\" text-anchor=\"middle\" x=\"282.5\" y=\"-280.3\">(None, 28, 28, 1)</text>\n",
       "<polyline fill=\"none\" points=\"227,-272.5 338,-272.5 \" stroke=\"black\"/>\n",
       "<text font-family=\"Times,serif\" font-size=\"14.00\" text-anchor=\"middle\" x=\"282.5\" y=\"-257.3\">(None, 28, 28, 1)</text>\n",
       "</g>\n",
       "<!-- 140531923738464 -->\n",
       "<g class=\"node\" id=\"node2\"><title>140531923738464</title>\n",
       "<polygon fill=\"none\" points=\"21,-166.5 21,-212.5 317,-212.5 317,-166.5 21,-166.5\" stroke=\"black\"/>\n",
       "<text font-family=\"Times,serif\" font-size=\"14.00\" text-anchor=\"middle\" x=\"82.5\" y=\"-185.8\">conv2d_1: Conv2D</text>\n",
       "<polyline fill=\"none\" points=\"144,-166.5 144,-212.5 \" stroke=\"black\"/>\n",
       "<text font-family=\"Times,serif\" font-size=\"14.00\" text-anchor=\"middle\" x=\"171.5\" y=\"-197.3\">input:</text>\n",
       "<polyline fill=\"none\" points=\"144,-189.5 199,-189.5 \" stroke=\"black\"/>\n",
       "<text font-family=\"Times,serif\" font-size=\"14.00\" text-anchor=\"middle\" x=\"171.5\" y=\"-174.3\">output:</text>\n",
       "<polyline fill=\"none\" points=\"199,-166.5 199,-212.5 \" stroke=\"black\"/>\n",
       "<text font-family=\"Times,serif\" font-size=\"14.00\" text-anchor=\"middle\" x=\"258\" y=\"-197.3\">(None, 28, 28, 1)</text>\n",
       "<polyline fill=\"none\" points=\"199,-189.5 317,-189.5 \" stroke=\"black\"/>\n",
       "<text font-family=\"Times,serif\" font-size=\"14.00\" text-anchor=\"middle\" x=\"258\" y=\"-174.3\">(None, 25, 25, 10)</text>\n",
       "</g>\n",
       "<!-- 140531923737960&#45;&gt;140531923738464 -->\n",
       "<g class=\"edge\" id=\"edge1\"><title>140531923737960-&gt;140531923738464</title>\n",
       "<path d=\"M169,-249.366C169,-241.152 169,-231.658 169,-222.725\" fill=\"none\" stroke=\"black\"/>\n",
       "<polygon fill=\"black\" points=\"172.5,-222.607 169,-212.607 165.5,-222.607 172.5,-222.607\" stroke=\"black\"/>\n",
       "</g>\n",
       "<!-- 140531923736392 -->\n",
       "<g class=\"node\" id=\"node3\"><title>140531923736392</title>\n",
       "<polygon fill=\"none\" points=\"27.5,-83.5 27.5,-129.5 310.5,-129.5 310.5,-83.5 27.5,-83.5\" stroke=\"black\"/>\n",
       "<text font-family=\"Times,serif\" font-size=\"14.00\" text-anchor=\"middle\" x=\"82.5\" y=\"-102.8\">flatten_1: Flatten</text>\n",
       "<polyline fill=\"none\" points=\"137.5,-83.5 137.5,-129.5 \" stroke=\"black\"/>\n",
       "<text font-family=\"Times,serif\" font-size=\"14.00\" text-anchor=\"middle\" x=\"165\" y=\"-114.3\">input:</text>\n",
       "<polyline fill=\"none\" points=\"137.5,-106.5 192.5,-106.5 \" stroke=\"black\"/>\n",
       "<text font-family=\"Times,serif\" font-size=\"14.00\" text-anchor=\"middle\" x=\"165\" y=\"-91.3\">output:</text>\n",
       "<polyline fill=\"none\" points=\"192.5,-83.5 192.5,-129.5 \" stroke=\"black\"/>\n",
       "<text font-family=\"Times,serif\" font-size=\"14.00\" text-anchor=\"middle\" x=\"251.5\" y=\"-114.3\">(None, 25, 25, 10)</text>\n",
       "<polyline fill=\"none\" points=\"192.5,-106.5 310.5,-106.5 \" stroke=\"black\"/>\n",
       "<text font-family=\"Times,serif\" font-size=\"14.00\" text-anchor=\"middle\" x=\"251.5\" y=\"-91.3\">(None, 6250)</text>\n",
       "</g>\n",
       "<!-- 140531923738464&#45;&gt;140531923736392 -->\n",
       "<g class=\"edge\" id=\"edge2\"><title>140531923738464-&gt;140531923736392</title>\n",
       "<path d=\"M169,-166.366C169,-158.152 169,-148.658 169,-139.725\" fill=\"none\" stroke=\"black\"/>\n",
       "<polygon fill=\"black\" points=\"172.5,-139.607 169,-129.607 165.5,-139.607 172.5,-139.607\" stroke=\"black\"/>\n",
       "</g>\n",
       "<!-- 140531926191968 -->\n",
       "<g class=\"node\" id=\"node4\"><title>140531926191968</title>\n",
       "<polygon fill=\"none\" points=\"46,-0.5 46,-46.5 292,-46.5 292,-0.5 46,-0.5\" stroke=\"black\"/>\n",
       "<text font-family=\"Times,serif\" font-size=\"14.00\" text-anchor=\"middle\" x=\"97\" y=\"-19.8\">dense_1: Dense</text>\n",
       "<polyline fill=\"none\" points=\"148,-0.5 148,-46.5 \" stroke=\"black\"/>\n",
       "<text font-family=\"Times,serif\" font-size=\"14.00\" text-anchor=\"middle\" x=\"175.5\" y=\"-31.3\">input:</text>\n",
       "<polyline fill=\"none\" points=\"148,-23.5 203,-23.5 \" stroke=\"black\"/>\n",
       "<text font-family=\"Times,serif\" font-size=\"14.00\" text-anchor=\"middle\" x=\"175.5\" y=\"-8.3\">output:</text>\n",
       "<polyline fill=\"none\" points=\"203,-0.5 203,-46.5 \" stroke=\"black\"/>\n",
       "<text font-family=\"Times,serif\" font-size=\"14.00\" text-anchor=\"middle\" x=\"247.5\" y=\"-31.3\">(None, 6250)</text>\n",
       "<polyline fill=\"none\" points=\"203,-23.5 292,-23.5 \" stroke=\"black\"/>\n",
       "<text font-family=\"Times,serif\" font-size=\"14.00\" text-anchor=\"middle\" x=\"247.5\" y=\"-8.3\">(None, 10)</text>\n",
       "</g>\n",
       "<!-- 140531923736392&#45;&gt;140531926191968 -->\n",
       "<g class=\"edge\" id=\"edge3\"><title>140531923736392-&gt;140531926191968</title>\n",
       "<path d=\"M169,-83.3664C169,-75.1516 169,-65.6579 169,-56.7252\" fill=\"none\" stroke=\"black\"/>\n",
       "<polygon fill=\"black\" points=\"172.5,-56.6068 169,-46.6068 165.5,-56.6069 172.5,-56.6068\" stroke=\"black\"/>\n",
       "</g>\n",
       "</g>\n",
       "</svg>"
      ],
      "text/plain": [
       "<IPython.core.display.SVG object>"
      ]
     },
     "metadata": {},
     "output_type": "display_data"
    }
   ],
   "source": [
    "plot(m, show_shapes=True)"
   ]
  },
  {
   "cell_type": "code",
   "execution_count": 25,
   "metadata": {},
   "outputs": [
    {
     "name": "stdout",
     "output_type": "stream",
     "text": [
      "_________________________________________________________________\n",
      "Layer (type)                 Output Shape              Param #   \n",
      "=================================================================\n",
      "conv2d_1 (Conv2D)            (None, 25, 25, 10)        170       \n",
      "_________________________________________________________________\n",
      "flatten_1 (Flatten)          (None, 6250)              0         \n",
      "_________________________________________________________________\n",
      "dense_1 (Dense)              (None, 10)                62510     \n",
      "=================================================================\n",
      "Total params: 62,680\n",
      "Trainable params: 62,680\n",
      "Non-trainable params: 0\n",
      "_________________________________________________________________\n"
     ]
    }
   ],
   "source": [
    "m.summary()"
   ]
  },
  {
   "cell_type": "code",
   "execution_count": 26,
   "metadata": {},
   "outputs": [
    {
     "name": "stdout",
     "output_type": "stream",
     "text": [
      "_________________________________________________________________\n",
      "Layer (type)                 Output Shape              Param #   \n",
      "=================================================================\n",
      "conv2d_6 (Conv2D)            (None, 25, 25, 10)        170       \n",
      "_________________________________________________________________\n",
      "flatten_6 (Flatten)          (None, 6250)              0         \n",
      "_________________________________________________________________\n",
      "dense_6 (Dense)              (None, 10)                62510     \n",
      "=================================================================\n",
      "Total params: 62,680\n",
      "Trainable params: 62,680\n",
      "Non-trainable params: 0\n",
      "_________________________________________________________________\n"
     ]
    }
   ],
   "source": [
    "# Two lines is the minimum code I could get preserving readability\n",
    "# compile() doesn't return self\n",
    "m2 = Sequential(layers=[Conv2D(10, (4,4), input_shape=(28,28,1,)), Flatten(), Dense(10, activation='softmax')])\n",
    "m2.compile(loss='categorical_crossentropy', optimizer='adam')\n",
    "m2.summary()"
   ]
  },
  {
   "cell_type": "code",
   "execution_count": 27,
   "metadata": {},
   "outputs": [
    {
     "name": "stdout",
     "output_type": "stream",
     "text": [
      "Epoch 1/1\n",
      "42000/42000 [==============================] - 14s 335us/step - loss: 8.1919\n"
     ]
    },
    {
     "data": {
      "text/plain": [
       "<keras.callbacks.History at 0x7fd0235d7b38>"
      ]
     },
     "execution_count": 27,
     "metadata": {},
     "output_type": "execute_result"
    }
   ],
   "source": [
    "m.fit(X_train, y_train, epochs=1)"
   ]
  },
  {
   "cell_type": "code",
   "execution_count": 42,
   "metadata": {},
   "outputs": [
    {
     "name": "stdout",
     "output_type": "stream",
     "text": [
      "(28000, 10)\n"
     ]
    },
    {
     "data": {
      "text/plain": [
       "array([[0., 0., 1., 0., 0., 0., 0., 0., 0., 0.],\n",
       "       [0., 0., 0., 0., 0., 0., 0., 1., 0., 0.],\n",
       "       [0., 0., 0., 0., 0., 0., 0., 0., 1., 0.]], dtype=float32)"
      ]
     },
     "execution_count": 42,
     "metadata": {},
     "output_type": "execute_result"
    }
   ],
   "source": [
    "\n",
    "y_pred = m.predict(X_test)\n",
    "\n",
    "# The prediction comes as a one-hot-encoding of the class\n",
    "print(y_pred.shape)\n",
    "y_pred[:3,0:10]"
   ]
  },
  {
   "cell_type": "code",
   "execution_count": 44,
   "metadata": {},
   "outputs": [
    {
     "data": {
      "text/plain": [
       "array([2, 7, 8])"
      ]
     },
     "execution_count": 44,
     "metadata": {},
     "output_type": "execute_result"
    }
   ],
   "source": [
    "# np.argmax(..., axis=-1) is the inverse of to_categorical()\n",
    "np.argmax(y_pred[:3,0:10], axis=-1)"
   ]
  },
  {
   "cell_type": "code",
   "execution_count": 157,
   "metadata": {},
   "outputs": [],
   "source": [
    "\n",
    "SUBMISSION_PATH=\"../data/submissions/\"\n",
    "\n",
    "def submit(model, X_test, submission_name):\n",
    "    \n",
    "    pd.DataFrame({\n",
    "                    'ImageId': range(1, 28001), \n",
    "                    'Label': np.argmax(model.predict(X_test), axis=-1)}\n",
    "                ).to_csv(f\"{SUBMISSION_PATH}{submission_name}.csv\", index=False)\n",
    "    \n",
    "submit(m, X_test, submission_name)"
   ]
  },
  {
   "cell_type": "markdown",
   "metadata": {},
   "source": [
    "# Some utility functions"
   ]
  },
  {
   "cell_type": "code",
   "execution_count": 64,
   "metadata": {},
   "outputs": [],
   "source": [
    "import subprocess\n",
    "\n",
    "def run(command, print_output=True):\n",
    "    out = subprocess.check_output(command, shell=True).decode('utf-8')\n",
    "    if print_output:\n",
    "        print(out)\n",
    "    return out"
   ]
  },
  {
   "cell_type": "code",
   "execution_count": 67,
   "metadata": {},
   "outputs": [
    {
     "name": "stdout",
     "output_type": "stream",
     "text": [
      "total 180\n",
      "-rw-rw-r-- 1 plotinus plotinus 82395 nov 12 20:36 1-first-contact.ipynb\n",
      "-rw-rw-r-- 1 plotinus plotinus 69846 nov  8 22:57 2-answer-stackoverflow-question.ipynb\n",
      "-rw-rw-r-- 1 plotinus plotinus 19931 nov 12 21:34 2-keras-basic.ipynb\n",
      "drwxrwxr-x 2 plotinus plotinus  4096 nov  8 22:20 kaggle\n",
      "\n"
     ]
    }
   ],
   "source": [
    "out = run(\"ls -l\")"
   ]
  },
  {
   "cell_type": "code",
   "execution_count": 85,
   "metadata": {},
   "outputs": [
    {
     "name": "stdout",
     "output_type": "stream",
     "text": [
      "fileName                         date                 description                                                                                status    publicScore  privateScore  \n",
      "-------------------------------  -------------------  -----------------------------------------------------------------------------------------  --------  -----------  ------------  \n",
      "dummy_cuadrant_resolution_4.csv  2018-11-09 04:11:23                                                                                             complete  0.88485      None          \n",
      "dummy_2_features_log_reg.csv     2018-11-09 03:37:48  Dummy: logistic regression with sum of brighness and count of non zero pixels as features  complete  0.12842      None          \n",
      "dummy_all_ones.csv               2018-11-09 02:43:28  Dummy all ones                                                                             complete  0.11614      None          \n",
      "sample_submission.csv            2018-11-09 02:22:35  This is the sample submission                                                              complete  0.10014      None          \n",
      "sample_submission.csv            2018-11-09 02:21:10  None                                                                                       complete  0.10014      None          \n",
      "\n"
     ]
    }
   ],
   "source": [
    "submissions = run(\"/home/plotinus/anaconda3/bin/kaggle competitions submissions digit-recognizer\")"
   ]
  },
  {
   "cell_type": "code",
   "execution_count": 131,
   "metadata": {},
   "outputs": [
    {
     "data": {
      "text/plain": [
       "['dummy_cuadrant_resolution_4.csv',\n",
       " '2018-11-09',\n",
       " '04:11:23',\n",
       " 'complete',\n",
       " '0.88485',\n",
       " 'None']"
      ]
     },
     "execution_count": 131,
     "metadata": {},
     "output_type": "execute_result"
    }
   ],
   "source": [
    "lines = [line.split() for line in submissions.split(\"\\n\")[2:-1]]\n",
    "lines[0]"
   ]
  },
  {
   "cell_type": "code",
   "execution_count": 130,
   "metadata": {},
   "outputs": [
    {
     "data": {
      "text/html": [
       "<div>\n",
       "<style scoped>\n",
       "    .dataframe tbody tr th:only-of-type {\n",
       "        vertical-align: middle;\n",
       "    }\n",
       "\n",
       "    .dataframe tbody tr th {\n",
       "        vertical-align: top;\n",
       "    }\n",
       "\n",
       "    .dataframe thead th {\n",
       "        text-align: right;\n",
       "    }\n",
       "</style>\n",
       "<table border=\"1\" class=\"dataframe\">\n",
       "  <thead>\n",
       "    <tr style=\"text-align: right;\">\n",
       "      <th></th>\n",
       "      <th>date</th>\n",
       "      <th>accuracy</th>\n",
       "    </tr>\n",
       "    <tr>\n",
       "      <th>submission</th>\n",
       "      <th></th>\n",
       "      <th></th>\n",
       "    </tr>\n",
       "  </thead>\n",
       "  <tbody>\n",
       "    <tr>\n",
       "      <th>dummy_cuadrant_resolution_4.csv</th>\n",
       "      <td>2018-11-09 04:11:23</td>\n",
       "      <td>0.88485</td>\n",
       "    </tr>\n",
       "    <tr>\n",
       "      <th>dummy_2_features_log_reg.csv</th>\n",
       "      <td>2018-11-09 03:37:48</td>\n",
       "      <td>0.12842</td>\n",
       "    </tr>\n",
       "    <tr>\n",
       "      <th>dummy_all_ones.csv</th>\n",
       "      <td>2018-11-09 02:43:28</td>\n",
       "      <td>0.11614</td>\n",
       "    </tr>\n",
       "    <tr>\n",
       "      <th>sample_submission.csv</th>\n",
       "      <td>2018-11-09 02:22:35</td>\n",
       "      <td>0.10014</td>\n",
       "    </tr>\n",
       "    <tr>\n",
       "      <th>sample_submission.csv</th>\n",
       "      <td>2018-11-09 02:21:10</td>\n",
       "      <td>0.10014</td>\n",
       "    </tr>\n",
       "  </tbody>\n",
       "</table>\n",
       "</div>"
      ],
      "text/plain": [
       "                                                date  accuracy\n",
       "submission                                                    \n",
       "dummy_cuadrant_resolution_4.csv  2018-11-09 04:11:23   0.88485\n",
       "dummy_2_features_log_reg.csv     2018-11-09 03:37:48   0.12842\n",
       "dummy_all_ones.csv               2018-11-09 02:43:28   0.11614\n",
       "sample_submission.csv            2018-11-09 02:22:35   0.10014\n",
       "sample_submission.csv            2018-11-09 02:21:10   0.10014"
      ]
     },
     "execution_count": 130,
     "metadata": {},
     "output_type": "execute_result"
    }
   ],
   "source": [
    "df = pd.DataFrame([(e[0], f\"{e[1]} {e[2]}\", float(e[-2])) for e in lines], \n",
    "                   columns=['submission', 'date', 'accuracy']).set_index('submission')\n",
    "df"
   ]
  },
  {
   "cell_type": "code",
   "execution_count": 134,
   "metadata": {},
   "outputs": [
    {
     "data": {
      "text/plain": [
       "<matplotlib.axes._subplots.AxesSubplot at 0x7fcfff78e240>"
      ]
     },
     "execution_count": 134,
     "metadata": {},
     "output_type": "execute_result"
    },
    {
     "data": {
      "image/png": "[encoded data removed]",
      "text/plain": [
       "<matplotlib.figure.Figure at 0x7fcfec182320>"
      ]
     },
     "metadata": {},
     "output_type": "display_data"
    }
   ],
   "source": [
    "df['date'] = pd.to_datetime(df['date'])\n",
    "df[['date', 'accuracy']].set_index('date').plot(figsize=(20, 5), rot=0, title=\"Submission accuracy over time\")"
   ]
  },
  {
   "cell_type": "code",
   "execution_count": 140,
   "metadata": {},
   "outputs": [
    {
     "data": {
      "text/html": [
       "<div>\n",
       "<style scoped>\n",
       "    .dataframe tbody tr th:only-of-type {\n",
       "        vertical-align: middle;\n",
       "    }\n",
       "\n",
       "    .dataframe tbody tr th {\n",
       "        vertical-align: top;\n",
       "    }\n",
       "\n",
       "    .dataframe thead th {\n",
       "        text-align: right;\n",
       "    }\n",
       "</style>\n",
       "<table border=\"1\" class=\"dataframe\">\n",
       "  <thead>\n",
       "    <tr style=\"text-align: right;\">\n",
       "      <th></th>\n",
       "      <th>date</th>\n",
       "      <th>accuracy</th>\n",
       "    </tr>\n",
       "    <tr>\n",
       "      <th>submission</th>\n",
       "      <th></th>\n",
       "      <th></th>\n",
       "    </tr>\n",
       "  </thead>\n",
       "  <tbody>\n",
       "    <tr>\n",
       "      <th>dummy_cuadrant_resolution_4.csv</th>\n",
       "      <td>2018-11-09 04:11:23</td>\n",
       "      <td>0.88485</td>\n",
       "    </tr>\n",
       "    <tr>\n",
       "      <th>dummy_2_features_log_reg.csv</th>\n",
       "      <td>2018-11-09 03:37:48</td>\n",
       "      <td>0.12842</td>\n",
       "    </tr>\n",
       "    <tr>\n",
       "      <th>dummy_all_ones.csv</th>\n",
       "      <td>2018-11-09 02:43:28</td>\n",
       "      <td>0.11614</td>\n",
       "    </tr>\n",
       "    <tr>\n",
       "      <th>sample_submission.csv</th>\n",
       "      <td>2018-11-09 02:22:35</td>\n",
       "      <td>0.10014</td>\n",
       "    </tr>\n",
       "    <tr>\n",
       "      <th>sample_submission.csv</th>\n",
       "      <td>2018-11-09 02:21:10</td>\n",
       "      <td>0.10014</td>\n",
       "    </tr>\n",
       "  </tbody>\n",
       "</table>\n",
       "</div>"
      ],
      "text/plain": [
       "                                               date  accuracy\n",
       "submission                                                   \n",
       "dummy_cuadrant_resolution_4.csv 2018-11-09 04:11:23   0.88485\n",
       "dummy_2_features_log_reg.csv    2018-11-09 03:37:48   0.12842\n",
       "dummy_all_ones.csv              2018-11-09 02:43:28   0.11614\n",
       "sample_submission.csv           2018-11-09 02:22:35   0.10014\n",
       "sample_submission.csv           2018-11-09 02:21:10   0.10014"
      ]
     },
     "execution_count": 140,
     "metadata": {},
     "output_type": "execute_result"
    }
   ],
   "source": [
    "\n",
    "KAGGLE_CMD=\"/home/plotinus/anaconda3/bin/kaggle\"\n",
    "\n",
    "def check_submissions(show=False):\n",
    "    submissions = run(f\"{KAGGLE_CMD} competitions submissions digit-recognizer\", print_output=False)\n",
    "    lines = [line.split() for line in submissions.split(\"\\n\")[2:-1]]\n",
    "    df = pd.DataFrame([(e[0], f\"{e[1]} {e[2]}\", float(e[-2])) for e in lines], \n",
    "                   columns=['submission', 'date', 'accuracy']).set_index('submission')\n",
    "    \n",
    "    df['date'] = pd.to_datetime(df['date'])\n",
    "    \n",
    "    if show:\n",
    "        df[['date', 'accuracy']].set_index('date').plot(figsize=(20, 5), rot=0, \n",
    "                                                        title=\"Submission accuracy over time\")\n",
    "        plt.show()\n",
    "        display(df)\n",
    "    \n",
    "    return df\n",
    "\n",
    "check_submissions()"
   ]
  },
  {
   "cell_type": "code",
   "execution_count": 143,
   "metadata": {},
   "outputs": [
    {
     "name": "stdout",
     "output_type": "stream",
     "text": [
      "total 1276\n",
      "-rw-rw-r-- 1 plotinus plotinus 212908 nov  9 00:36 dummy_2_features_log_reg.csv\n",
      "-rw-rw-r-- 1 plotinus plotinus 212908 nov  8 23:42 dummy_all_ones.csv\n",
      "-rw-rw-r-- 1 plotinus plotinus 212908 nov  9 01:34 dummy_cuadrant_resolution_3.csv\n",
      "-rw-rw-r-- 1 plotinus plotinus 212908 nov  9 01:11 dummy_cuadrant_resolution_4.csv\n",
      "-rw-rw-r-- 1 plotinus plotinus 212908 nov 12 22:07 keras_model_1.csv\n",
      "-rw-rw-r-- 1 plotinus plotinus 240909 nov  8 23:19 sample_submission.csv\n",
      "\n"
     ]
    }
   ],
   "source": [
    "run(f\"ls -l {SUBMISSION_PATH}\");"
   ]
  },
  {
   "cell_type": "code",
   "execution_count": 144,
   "metadata": {},
   "outputs": [
    {
     "name": "stdout",
     "output_type": "stream",
     "text": [
      "Successfully submitted to Digit Recognizer\n"
     ]
    }
   ],
   "source": [
    "submission = \"keras_model_1\"\n",
    "run(f\"{KAGGLE_CMD} competitions submit -f {SUBMISSION_PATH}/{submission}.csv -m '{submission}.csv' digit-recognizer\");"
   ]
  },
  {
   "cell_type": "code",
   "execution_count": 150,
   "metadata": {},
   "outputs": [
    {
     "data": {
      "text/html": [
       "<div>\n",
       "<style scoped>\n",
       "    .dataframe tbody tr th:only-of-type {\n",
       "        vertical-align: middle;\n",
       "    }\n",
       "\n",
       "    .dataframe tbody tr th {\n",
       "        vertical-align: top;\n",
       "    }\n",
       "\n",
       "    .dataframe thead th {\n",
       "        text-align: right;\n",
       "    }\n",
       "</style>\n",
       "<table border=\"1\" class=\"dataframe\">\n",
       "  <thead>\n",
       "    <tr style=\"text-align: right;\">\n",
       "      <th></th>\n",
       "      <th>date</th>\n",
       "      <th>accuracy</th>\n",
       "    </tr>\n",
       "    <tr>\n",
       "      <th>submission</th>\n",
       "      <th></th>\n",
       "      <th></th>\n",
       "    </tr>\n",
       "  </thead>\n",
       "  <tbody>\n",
       "    <tr>\n",
       "      <th>keras_model_1.csv</th>\n",
       "      <td>2018-11-13 01:09:58</td>\n",
       "      <td>0.52800</td>\n",
       "    </tr>\n",
       "    <tr>\n",
       "      <th>dummy_cuadrant_resolution_4.csv</th>\n",
       "      <td>2018-11-09 04:11:23</td>\n",
       "      <td>0.88485</td>\n",
       "    </tr>\n",
       "    <tr>\n",
       "      <th>dummy_2_features_log_reg.csv</th>\n",
       "      <td>2018-11-09 03:37:48</td>\n",
       "      <td>0.12842</td>\n",
       "    </tr>\n",
       "    <tr>\n",
       "      <th>dummy_all_ones.csv</th>\n",
       "      <td>2018-11-09 02:43:28</td>\n",
       "      <td>0.11614</td>\n",
       "    </tr>\n",
       "    <tr>\n",
       "      <th>sample_submission.csv</th>\n",
       "      <td>2018-11-09 02:22:35</td>\n",
       "      <td>0.10014</td>\n",
       "    </tr>\n",
       "    <tr>\n",
       "      <th>sample_submission.csv</th>\n",
       "      <td>2018-11-09 02:21:10</td>\n",
       "      <td>0.10014</td>\n",
       "    </tr>\n",
       "  </tbody>\n",
       "</table>\n",
       "</div>"
      ],
      "text/plain": [
       "                                               date  accuracy\n",
       "submission                                                   \n",
       "keras_model_1.csv               2018-11-13 01:09:58   0.52800\n",
       "dummy_cuadrant_resolution_4.csv 2018-11-09 04:11:23   0.88485\n",
       "dummy_2_features_log_reg.csv    2018-11-09 03:37:48   0.12842\n",
       "dummy_all_ones.csv              2018-11-09 02:43:28   0.11614\n",
       "sample_submission.csv           2018-11-09 02:22:35   0.10014\n",
       "sample_submission.csv           2018-11-09 02:21:10   0.10014"
      ]
     },
     "execution_count": 150,
     "metadata": {},
     "output_type": "execute_result"
    }
   ],
   "source": [
    "# The plot is ugly, because of the time difference among submissions so I just show the table\n",
    "submissions = check_submissions()\n",
    "submissions"
   ]
  },
  {
   "cell_type": "code",
   "execution_count": 156,
   "metadata": {},
   "outputs": [
    {
     "data": {
      "text/plain": [
       "0.528"
      ]
     },
     "execution_count": 156,
     "metadata": {},
     "output_type": "execute_result"
    }
   ],
   "source": [
    "submissions.loc[f\"{submission}.csv\", \"accuracy\"]"
   ]
  },
  {
   "cell_type": "markdown",
   "metadata": {},
   "source": [
    "OK, let's put all this together in a simple function"
   ]
  },
  {
   "cell_type": "code",
   "execution_count": 165,
   "metadata": {},
   "outputs": [],
   "source": [
    "import time\n",
    "\n",
    "TEST = \"../data/base/test.csv\"\n",
    "\n",
    "def submit_to_server(submission, check=True):\n",
    "    \n",
    "    run(f\"{KAGGLE_CMD} competitions submit -f {SUBMISSION_PATH}/{submission}.csv -m '{submission}.csv' digit-recognizer\", \n",
    "            print_output=True)\n",
    "    \n",
    "    if check:\n",
    "        print(\"Sleeping 30 secs before checking for score...\")\n",
    "        time.sleep(30)\n",
    "        submissions = check_submissions()\n",
    "        acc = submissions.loc[f\"{submission}.csv\", \"accuracy\"]\n",
    "        print(f\"Model accuracy is {acc}\")\n",
    "        return acc\n",
    "    \n",
    "\n",
    "def submit(model, submission_name, submit_to_kaggle=False):\n",
    "    \n",
    "    test = pd.read_csv(TEST)\n",
    "    X_test = test.values.reshape((test.shape[0], 28, 28, 1))\n",
    "    pd.DataFrame({\n",
    "                    'ImageId': range(1, 28001), \n",
    "                    'Label': np.argmax(model.predict(X_test), axis=-1)}\n",
    "                ).to_csv(f\"{SUBMISSION_PATH}{submission_name}.csv\", index=False)\n",
    "\n",
    "    if submit_to_kaggle:\n",
    "        acc = submit_to_server(submission_name)\n",
    "        return acc\n"
   ]
  },
  {
   "cell_type": "markdown",
   "metadata": {},
   "source": [
    "# Let's fit this model for some epochs more"
   ]
  },
  {
   "cell_type": "code",
   "execution_count": 148,
   "metadata": {},
   "outputs": [
    {
     "name": "stdout",
     "output_type": "stream",
     "text": [
      "Epoch 1/10\n",
      "42000/42000 [==============================] - 13s 306us/step - loss: 7.4131\n",
      "Epoch 2/10\n",
      "42000/42000 [==============================] - 13s 299us/step - loss: 7.2698\n",
      "Epoch 3/10\n",
      "42000/42000 [==============================] - 13s 302us/step - loss: 7.4104\n",
      "Epoch 4/10\n",
      "42000/42000 [==============================] - 13s 303us/step - loss: 7.3597\n",
      "Epoch 5/10\n",
      "42000/42000 [==============================] - 13s 303us/step - loss: 7.2929\n",
      "Epoch 6/10\n",
      "42000/42000 [==============================] - 13s 301us/step - loss: 7.3267\n",
      "Epoch 7/10\n",
      "42000/42000 [==============================] - 14s 326us/step - loss: 6.4603\n",
      "Epoch 8/10\n",
      "42000/42000 [==============================] - 13s 313us/step - loss: 6.2564\n",
      "Epoch 9/10\n",
      "42000/42000 [==============================] - 13s 307us/step - loss: 6.0608\n",
      "Epoch 10/10\n",
      "42000/42000 [==============================] - 13s 315us/step - loss: 6.0173\n"
     ]
    }
   ],
   "source": [
    "h = m.fit(X_train, y_train, epochs=10)"
   ]
  },
  {
   "cell_type": "markdown",
   "metadata": {},
   "source": [
    "It seems that it started to improve after a while!"
   ]
  },
  {
   "cell_type": "code",
   "execution_count": 164,
   "metadata": {},
   "outputs": [
    {
     "data": {
      "text/plain": [
       "[<matplotlib.lines.Line2D at 0x7fcf9cf70eb8>]"
      ]
     },
     "execution_count": 164,
     "metadata": {},
     "output_type": "execute_result"
    },
    {
     "data": {
      "image/png": "[encoded data removed]",
      "text/plain": [
       "<matplotlib.figure.Figure at 0x7fcfb4652e10>"
      ]
     },
     "metadata": {},
     "output_type": "display_data"
    }
   ],
   "source": [
    "plt.plot(h.history['loss'])"
   ]
  },
  {
   "cell_type": "code",
   "execution_count": 166,
   "metadata": {},
   "outputs": [
    {
     "name": "stdout",
     "output_type": "stream",
     "text": [
      "Successfully submitted to Digit Recognizer\n",
      "Sleeping 30 secs before checking for score...\n",
      "Model accuracy is 0.62214\n"
     ]
    },
    {
     "data": {
      "text/plain": [
       "0.62214"
      ]
     },
     "execution_count": 166,
     "metadata": {},
     "output_type": "execute_result"
    }
   ],
   "source": [
    "submit(m, \"keras_model_1_11_epochs\", submit_to_kaggle=True)"
   ]
  },
  {
   "cell_type": "markdown",
   "metadata": {},
   "source": [
    "### 9 extra epoch eventually found a jump in accuracy which lead to a %10 improvement"
   ]
  },
  {
   "cell_type": "markdown",
   "metadata": {},
   "source": [
    "# Let's complete 100 epochs"
   ]
  },
  {
   "cell_type": "code",
   "execution_count": 167,
   "metadata": {},
   "outputs": [
    {
     "name": "stdout",
     "output_type": "stream",
     "text": [
      "Epoch 1/89\n",
      "42000/42000 [==============================] - 13s 304us/step - loss: 5.9164\n",
      "Epoch 2/89\n",
      "42000/42000 [==============================] - 14s 323us/step - loss: 5.9822\n",
      "Epoch 3/89\n",
      "42000/42000 [==============================] - 13s 300us/step - loss: 6.0588\n",
      "Epoch 4/89\n",
      "42000/42000 [==============================] - 13s 299us/step - loss: 6.1395\n",
      "Epoch 5/89\n",
      "42000/42000 [==============================] - 13s 305us/step - loss: 5.8615\n",
      "Epoch 6/89\n",
      "42000/42000 [==============================] - 13s 304us/step - loss: 5.7947\n",
      "Epoch 7/89\n",
      "42000/42000 [==============================] - 13s 305us/step - loss: 6.0872\n",
      "Epoch 8/89\n",
      "42000/42000 [==============================] - 13s 320us/step - loss: 5.7472\n",
      "Epoch 9/89\n",
      "42000/42000 [==============================] - 13s 309us/step - loss: 5.7314\n",
      "Epoch 10/89\n",
      "42000/42000 [==============================] - 13s 312us/step - loss: 5.7638\n",
      "Epoch 11/89\n",
      "42000/42000 [==============================] - 13s 312us/step - loss: 5.7201\n",
      "Epoch 12/89\n",
      "42000/42000 [==============================] - 13s 304us/step - loss: 5.6967\n",
      "Epoch 13/89\n",
      "42000/42000 [==============================] - 13s 305us/step - loss: 5.9162\n",
      "Epoch 14/89\n",
      "42000/42000 [==============================] - 13s 305us/step - loss: 5.8760\n",
      "Epoch 15/89\n",
      "42000/42000 [==============================] - 14s 322us/step - loss: 5.8470\n",
      "Epoch 16/89\n",
      "42000/42000 [==============================] - 13s 310us/step - loss: 5.9575\n",
      "Epoch 17/89\n",
      "42000/42000 [==============================] - 13s 306us/step - loss: 5.8012\n",
      "Epoch 18/89\n",
      "42000/42000 [==============================] - 14s 325us/step - loss: 5.7606\n",
      "Epoch 19/89\n",
      "42000/42000 [==============================] - 13s 312us/step - loss: 5.7097\n",
      "Epoch 20/89\n",
      "42000/42000 [==============================] - 14s 330us/step - loss: 5.6727\n",
      "Epoch 21/89\n",
      "42000/42000 [==============================] - 13s 309us/step - loss: 5.6149\n",
      "Epoch 22/89\n",
      "42000/42000 [==============================] - 13s 303us/step - loss: 5.6057\n",
      "Epoch 23/89\n",
      "42000/42000 [==============================] - 13s 318us/step - loss: 5.6859\n",
      "Epoch 24/89\n",
      "42000/42000 [==============================] - 13s 319us/step - loss: 5.7289\n",
      "Epoch 25/89\n",
      "42000/42000 [==============================] - 13s 313us/step - loss: 5.6909\n",
      "Epoch 26/89\n",
      "42000/42000 [==============================] - 14s 325us/step - loss: 5.8031\n",
      "Epoch 27/89\n",
      "42000/42000 [==============================] - 13s 305us/step - loss: 5.7396\n",
      "Epoch 28/89\n",
      "42000/42000 [==============================] - 13s 307us/step - loss: 5.6379\n",
      "Epoch 29/89\n",
      "42000/42000 [==============================] - 13s 313us/step - loss: 5.5833\n",
      "Epoch 30/89\n",
      "42000/42000 [==============================] - 14s 328us/step - loss: 5.5692\n",
      "Epoch 31/89\n",
      "42000/42000 [==============================] - 13s 316us/step - loss: 5.6257\n",
      "Epoch 32/89\n",
      "42000/42000 [==============================] - 13s 311us/step - loss: 5.6475\n",
      "Epoch 33/89\n",
      "42000/42000 [==============================] - 13s 314us/step - loss: 5.8989\n",
      "Epoch 34/89\n",
      "42000/42000 [==============================] - 13s 315us/step - loss: 5.6581\n",
      "Epoch 35/89\n",
      "42000/42000 [==============================] - 14s 344us/step - loss: 5.6020\n",
      "Epoch 36/89\n",
      "42000/42000 [==============================] - 14s 321us/step - loss: 5.6234\n",
      "Epoch 37/89\n",
      "42000/42000 [==============================] - 14s 333us/step - loss: 5.7191\n",
      "Epoch 38/89\n",
      "42000/42000 [==============================] - 14s 329us/step - loss: 5.6960\n",
      "Epoch 39/89\n",
      "42000/42000 [==============================] - 13s 316us/step - loss: 5.7475\n",
      "Epoch 40/89\n",
      "42000/42000 [==============================] - 13s 313us/step - loss: 5.6654\n",
      "Epoch 41/89\n",
      "42000/42000 [==============================] - 12s 290us/step - loss: 5.6986\n",
      "Epoch 42/89\n",
      "42000/42000 [==============================] - 12s 285us/step - loss: 5.7139\n",
      "Epoch 43/89\n",
      "42000/42000 [==============================] - 12s 285us/step - loss: 5.7182\n",
      "Epoch 44/89\n",
      "42000/42000 [==============================] - 12s 285us/step - loss: 5.7376\n",
      "Epoch 45/89\n",
      "42000/42000 [==============================] - 12s 291us/step - loss: 5.6424\n",
      "Epoch 46/89\n",
      "42000/42000 [==============================] - 12s 280us/step - loss: 5.6249\n",
      "Epoch 47/89\n",
      "42000/42000 [==============================] - 12s 287us/step - loss: 5.6826\n",
      "Epoch 48/89\n",
      "42000/42000 [==============================] - 12s 294us/step - loss: 5.6982\n",
      "Epoch 49/89\n",
      "42000/42000 [==============================] - 13s 316us/step - loss: 5.6510\n",
      "Epoch 50/89\n",
      "42000/42000 [==============================] - 12s 283us/step - loss: 5.6973\n",
      "Epoch 51/89\n",
      "42000/42000 [==============================] - 12s 281us/step - loss: 5.7155\n",
      "Epoch 52/89\n",
      "42000/42000 [==============================] - 12s 281us/step - loss: 5.6354\n",
      "Epoch 53/89\n",
      "42000/42000 [==============================] - 12s 289us/step - loss: 5.5620\n",
      "Epoch 54/89\n",
      "42000/42000 [==============================] - 12s 281us/step - loss: 5.6263\n",
      "Epoch 55/89\n",
      "42000/42000 [==============================] - 14s 323us/step - loss: 5.7083\n",
      "Epoch 56/89\n",
      "42000/42000 [==============================] - 13s 317us/step - loss: 5.6230\n",
      "Epoch 57/89\n",
      "42000/42000 [==============================] - 13s 314us/step - loss: 5.6859\n",
      "Epoch 58/89\n",
      "42000/42000 [==============================] - 13s 315us/step - loss: 5.6703\n",
      "Epoch 59/89\n",
      "42000/42000 [==============================] - 13s 317us/step - loss: 5.6366\n",
      "Epoch 60/89\n",
      "42000/42000 [==============================] - 13s 312us/step - loss: 5.5751\n",
      "Epoch 61/89\n",
      "42000/42000 [==============================] - 12s 294us/step - loss: 5.6007\n",
      "Epoch 62/89\n",
      "42000/42000 [==============================] - 12s 294us/step - loss: 5.7367\n",
      "Epoch 63/89\n",
      "42000/42000 [==============================] - 13s 316us/step - loss: 5.6304\n",
      "Epoch 64/89\n",
      "42000/42000 [==============================] - 13s 303us/step - loss: 5.6822\n",
      "Epoch 65/89\n",
      "42000/42000 [==============================] - 13s 303us/step - loss: 5.5987\n",
      "Epoch 66/89\n",
      "42000/42000 [==============================] - 13s 301us/step - loss: 5.5424\n",
      "Epoch 67/89\n",
      "42000/42000 [==============================] - 16s 389us/step - loss: 5.6758\n",
      "Epoch 68/89\n",
      "42000/42000 [==============================] - 13s 316us/step - loss: 5.6463\n",
      "Epoch 69/89\n",
      "42000/42000 [==============================] - 14s 331us/step - loss: 5.6452\n",
      "Epoch 70/89\n",
      "42000/42000 [==============================] - 13s 318us/step - loss: 5.5328\n",
      "Epoch 71/89\n",
      "42000/42000 [==============================] - 14s 323us/step - loss: 5.5414\n",
      "Epoch 72/89\n",
      "42000/42000 [==============================] - 13s 314us/step - loss: 5.5957\n",
      "Epoch 73/89\n",
      "42000/42000 [==============================] - 12s 295us/step - loss: 5.5262\n",
      "Epoch 74/89\n",
      "42000/42000 [==============================] - 13s 303us/step - loss: 5.5863\n",
      "Epoch 75/89\n",
      "42000/42000 [==============================] - 13s 308us/step - loss: 5.6331\n",
      "Epoch 76/89\n",
      "42000/42000 [==============================] - 14s 342us/step - loss: 5.6485\n",
      "Epoch 77/89\n",
      "42000/42000 [==============================] - 14s 329us/step - loss: 5.7149\n",
      "Epoch 78/89\n",
      "42000/42000 [==============================] - 13s 314us/step - loss: 5.6292\n",
      "Epoch 79/89\n",
      "42000/42000 [==============================] - 12s 297us/step - loss: 5.5446\n",
      "Epoch 80/89\n",
      "42000/42000 [==============================] - 12s 287us/step - loss: 5.5124\n",
      "Epoch 81/89\n",
      "42000/42000 [==============================] - 12s 284us/step - loss: 5.5148\n",
      "Epoch 82/89\n",
      "42000/42000 [==============================] - 12s 289us/step - loss: 5.5235\n",
      "Epoch 83/89\n",
      "42000/42000 [==============================] - 12s 286us/step - loss: 5.5939\n",
      "Epoch 84/89\n",
      "42000/42000 [==============================] - 12s 288us/step - loss: 5.5989\n",
      "Epoch 85/89\n",
      "42000/42000 [==============================] - 12s 286us/step - loss: 5.5501\n",
      "Epoch 86/89\n",
      "42000/42000 [==============================] - 12s 285us/step - loss: 5.5135\n",
      "Epoch 87/89\n",
      "42000/42000 [==============================] - 12s 289us/step - loss: 5.5367\n",
      "Epoch 88/89\n",
      "42000/42000 [==============================] - 13s 314us/step - loss: 5.5861\n",
      "Epoch 89/89\n",
      "42000/42000 [==============================] - 14s 335us/step - loss: 5.6119\n",
      "CPU times: user 39min 46s, sys: 3min 4s, total: 42min 50s\n",
      "Wall time: 19min 11s\n"
     ]
    }
   ],
   "source": [
    "%%time\n",
    "h = m.fit(X_train, y_train, epochs=89)"
   ]
  },
  {
   "cell_type": "code",
   "execution_count": 174,
   "metadata": {},
   "outputs": [
    {
     "data": {
      "image/png": "[encoded data removed]",
      "text/plain": [
       "<matplotlib.figure.Figure at 0x7fcfb40b53c8>"
      ]
     },
     "metadata": {},
     "output_type": "display_data"
    }
   ],
   "source": [
    "pd.Series(h.history['loss']).plot(figsize=(20, 5), title=\"Model 1 (Trivial model) Loss - (epochs 11 to 100)\");"
   ]
  },
  {
   "cell_type": "code",
   "execution_count": 175,
   "metadata": {},
   "outputs": [
    {
     "name": "stdout",
     "output_type": "stream",
     "text": [
      "Successfully submitted to Digit Recognizer\n",
      "Sleeping 30 secs before checking for score...\n",
      "Model accuracy is 0.64814\n"
     ]
    },
    {
     "data": {
      "text/plain": [
       "0.64814"
      ]
     },
     "execution_count": 175,
     "metadata": {},
     "output_type": "execute_result"
    }
   ],
   "source": [
    "submit(m, \"keras_model_1_100_epochs\", submit_to_kaggle=True)"
   ]
  },
  {
   "cell_type": "markdown",
   "metadata": {},
   "source": [
    "It reported a 2.6% improvement in accuracy"
   ]
  },
  {
   "cell_type": "code",
   "execution_count": 176,
   "metadata": {},
   "outputs": [
    {
     "data": {
      "text/html": [
       "<div>\n",
       "<style scoped>\n",
       "    .dataframe tbody tr th:only-of-type {\n",
       "        vertical-align: middle;\n",
       "    }\n",
       "\n",
       "    .dataframe tbody tr th {\n",
       "        vertical-align: top;\n",
       "    }\n",
       "\n",
       "    .dataframe thead th {\n",
       "        text-align: right;\n",
       "    }\n",
       "</style>\n",
       "<table border=\"1\" class=\"dataframe\">\n",
       "  <thead>\n",
       "    <tr style=\"text-align: right;\">\n",
       "      <th></th>\n",
       "      <th>date</th>\n",
       "      <th>accuracy</th>\n",
       "    </tr>\n",
       "    <tr>\n",
       "      <th>submission</th>\n",
       "      <th></th>\n",
       "      <th></th>\n",
       "    </tr>\n",
       "  </thead>\n",
       "  <tbody>\n",
       "    <tr>\n",
       "      <th>keras_model_1_100_epochs.csv</th>\n",
       "      <td>2018-11-13 01:52:07</td>\n",
       "      <td>0.64814</td>\n",
       "    </tr>\n",
       "    <tr>\n",
       "      <th>keras_model_1_11_epochs.csv</th>\n",
       "      <td>2018-11-13 01:29:00</td>\n",
       "      <td>0.62214</td>\n",
       "    </tr>\n",
       "    <tr>\n",
       "      <th>keras_model_1.csv</th>\n",
       "      <td>2018-11-13 01:09:58</td>\n",
       "      <td>0.52800</td>\n",
       "    </tr>\n",
       "    <tr>\n",
       "      <th>dummy_cuadrant_resolution_4.csv</th>\n",
       "      <td>2018-11-09 04:11:23</td>\n",
       "      <td>0.88485</td>\n",
       "    </tr>\n",
       "    <tr>\n",
       "      <th>dummy_2_features_log_reg.csv</th>\n",
       "      <td>2018-11-09 03:37:48</td>\n",
       "      <td>0.12842</td>\n",
       "    </tr>\n",
       "    <tr>\n",
       "      <th>dummy_all_ones.csv</th>\n",
       "      <td>2018-11-09 02:43:28</td>\n",
       "      <td>0.11614</td>\n",
       "    </tr>\n",
       "    <tr>\n",
       "      <th>sample_submission.csv</th>\n",
       "      <td>2018-11-09 02:22:35</td>\n",
       "      <td>0.10014</td>\n",
       "    </tr>\n",
       "    <tr>\n",
       "      <th>sample_submission.csv</th>\n",
       "      <td>2018-11-09 02:21:10</td>\n",
       "      <td>0.10014</td>\n",
       "    </tr>\n",
       "  </tbody>\n",
       "</table>\n",
       "</div>"
      ],
      "text/plain": [
       "                                               date  accuracy\n",
       "submission                                                   \n",
       "keras_model_1_100_epochs.csv    2018-11-13 01:52:07   0.64814\n",
       "keras_model_1_11_epochs.csv     2018-11-13 01:29:00   0.62214\n",
       "keras_model_1.csv               2018-11-13 01:09:58   0.52800\n",
       "dummy_cuadrant_resolution_4.csv 2018-11-09 04:11:23   0.88485\n",
       "dummy_2_features_log_reg.csv    2018-11-09 03:37:48   0.12842\n",
       "dummy_all_ones.csv              2018-11-09 02:43:28   0.11614\n",
       "sample_submission.csv           2018-11-09 02:22:35   0.10014\n",
       "sample_submission.csv           2018-11-09 02:21:10   0.10014"
      ]
     },
     "execution_count": 176,
     "metadata": {},
     "output_type": "execute_result"
    }
   ],
   "source": [
    "check_submissions()"
   ]
  }
 ],
 "metadata": {
  "kernelspec": {
   "display_name": "Python 3",
   "language": "python",
   "name": "python3"
  },
  "language_info": {
   "codemirror_mode": {
    "name": "ipython",
    "version": 3
   },
   "file_extension": ".py",
   "mimetype": "text/x-python",
   "name": "python",
   "nbconvert_exporter": "python",
   "pygments_lexer": "ipython3",
   "version": "3.6.4"
  }
 },
 "nbformat": 4,
 "nbformat_minor": 2
}
