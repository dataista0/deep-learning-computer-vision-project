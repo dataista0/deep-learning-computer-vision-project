{
 "cells": [
  {
   "cell_type": "markdown",
   "metadata": {},
   "source": [
    "# Simple experiments with trivial models stacking Conv, MaxPool and Dropout blocks"
   ]
  },
  {
   "cell_type": "code",
   "execution_count": 58,
   "metadata": {},
   "outputs": [],
   "source": [
    "%matplotlib inline\n",
    "import pandas as pd\n",
    "\n",
    "import sys; sys.path.append(\"../code\")\n",
    "import utils\n",
    "\n",
    "from keras import Sequential\n",
    "from keras.layers import Conv2D, Flatten, Dense, MaxPool2D, Dropout\n",
    "\n",
    "X, y = utils.load_train()"
   ]
  },
  {
   "cell_type": "code",
   "execution_count": 6,
   "metadata": {},
   "outputs": [],
   "source": [
    "def model(n_filters=10, filter_size=(4,4)):\n",
    "    m = Sequential()\n",
    "    m.add(Conv2D(n_filters, filter_size, input_shape=(28,28,1,)))\n",
    "    m.add(Flatten())\n",
    "    m.add(Dense(10, activation='softmax'))\n",
    "    # Added accuracy metric to the compile() call!\n",
    "    m.compile(loss='categorical_crossentropy', optimizer='adam', metrics=['accuracy'])\n",
    "    return m"
   ]
  },
  {
   "cell_type": "code",
   "execution_count": 26,
   "metadata": {},
   "outputs": [
    {
     "name": "stdout",
     "output_type": "stream",
     "text": [
      "Epoch 1/1\n",
      "42000/42000 [==============================] - 14s 322us/step - loss: 12.7850 - acc: 0.2064\n"
     ]
    },
    {
     "data": {
      "text/plain": [
       "<keras.callbacks.History at 0x7efcb85a7f60>"
      ]
     },
     "execution_count": 26,
     "metadata": {},
     "output_type": "execute_result"
    }
   ],
   "source": [
    "# The model of the previous notebook got 8.1919 loss in 1 epoch. Seems it was luck!!\n",
    "m = model()\n",
    "m.fit(X, y, epochs=1)"
   ]
  },
  {
   "cell_type": "code",
   "execution_count": null,
   "metadata": {},
   "outputs": [],
   "source": [
    "def train(n_filters, filter_size, epochs=1):\n",
    "    return model(n_filters, filter_size).fit(X, y, epochs=epochs, validation_split=0.05)"
   ]
  },
  {
   "cell_type": "code",
   "execution_count": 28,
   "metadata": {},
   "outputs": [
    {
     "name": "stdout",
     "output_type": "stream",
     "text": [
      "Train on 39900 samples, validate on 2100 samples\n",
      "Epoch 1/1\n",
      "39900/39900 [==============================] - 11s 281us/step - loss: 3.2130 - acc: 0.7870 - val_loss: 2.1741 - val_acc: 0.8600\n",
      "Train on 39900 samples, validate on 2100 samples\n",
      "Epoch 1/1\n",
      "39900/39900 [==============================] - 12s 299us/step - loss: 10.3629 - acc: 0.3561 - val_loss: 9.4917 - val_acc: 0.4110\n",
      "Train on 39900 samples, validate on 2100 samples\n",
      "Epoch 1/1\n",
      "39900/39900 [==============================] - 13s 325us/step - loss: 11.3790 - acc: 0.2927 - val_loss: 10.6996 - val_acc: 0.3352\n",
      "Train on 39900 samples, validate on 2100 samples\n",
      "Epoch 1/1\n",
      "39900/39900 [==============================] - 15s 367us/step - loss: 11.6181 - acc: 0.2784 - val_loss: 10.9563 - val_acc: 0.3200\n",
      "Train on 39900 samples, validate on 2100 samples\n",
      "Epoch 1/1\n",
      "39900/39900 [==============================] - 17s 421us/step - loss: 10.3947 - acc: 0.3534 - val_loss: 9.9154 - val_acc: 0.3848\n",
      "Train on 39900 samples, validate on 2100 samples\n",
      "Epoch 1/1\n",
      "39900/39900 [==============================] - 21s 535us/step - loss: 14.4428 - acc: 0.1039 - val_loss: 14.5370 - val_acc: 0.0981\n"
     ]
    }
   ],
   "source": [
    "for n_filters in [2, 5, 10, 15, 20, 30]:\n",
    "    train(n_filters, (4, 4))"
   ]
  },
  {
   "cell_type": "code",
   "execution_count": 30,
   "metadata": {},
   "outputs": [
    {
     "name": "stdout",
     "output_type": "stream",
     "text": [
      "Train on 39900 samples, validate on 2100 samples\n",
      "Epoch 1/1\n",
      "39900/39900 [==============================] - 12s 295us/step - loss: 5.5559 - acc: 0.6431 - val_loss: 3.8443 - val_acc: 0.7548\n"
     ]
    }
   ],
   "source": [
    "train(1, (4, 4));"
   ]
  },
  {
   "cell_type": "code",
   "execution_count": 31,
   "metadata": {},
   "outputs": [
    {
     "name": "stdout",
     "output_type": "stream",
     "text": [
      "Train on 39900 samples, validate on 2100 samples\n",
      "Epoch 1/1\n",
      "39900/39900 [==============================] - 12s 291us/step - loss: 9.8355 - acc: 0.3881 - val_loss: 9.2434 - val_acc: 0.4248\n"
     ]
    }
   ],
   "source": [
    "train(2, (4, 4));"
   ]
  },
  {
   "cell_type": "code",
   "execution_count": 15,
   "metadata": {},
   "outputs": [
    {
     "name": "stdout",
     "output_type": "stream",
     "text": [
      "Train on 39900 samples, validate on 2100 samples\n",
      "Epoch 1/10\n",
      "39900/39900 [==============================] - 15s 385us/step - loss: 11.7660 - acc: 0.2691 - val_loss: 11.1346 - val_acc: 0.3090\n",
      "Epoch 2/10\n",
      "39900/39900 [==============================] - 15s 380us/step - loss: 10.9246 - acc: 0.3220 - val_loss: 10.5076 - val_acc: 0.3481\n",
      "Epoch 3/10\n",
      "39900/39900 [==============================] - 17s 416us/step - loss: 9.9006 - acc: 0.3855 - val_loss: 10.2465 - val_acc: 0.3643\n",
      "Epoch 4/10\n",
      "39900/39900 [==============================] - 16s 398us/step - loss: 9.8139 - acc: 0.3909 - val_loss: 9.8092 - val_acc: 0.3914\n",
      "Epoch 5/10\n",
      "39900/39900 [==============================] - 17s 422us/step - loss: 9.6239 - acc: 0.4028 - val_loss: 9.4180 - val_acc: 0.4152\n",
      "Epoch 6/10\n",
      "39900/39900 [==============================] - 15s 372us/step - loss: 9.5828 - acc: 0.4053 - val_loss: 9.8944 - val_acc: 0.3857\n",
      "Epoch 7/10\n",
      "39900/39900 [==============================] - 15s 374us/step - loss: 9.3810 - acc: 0.4179 - val_loss: 9.1254 - val_acc: 0.4338\n",
      "Epoch 8/10\n",
      "39900/39900 [==============================] - 15s 383us/step - loss: 9.3216 - acc: 0.4216 - val_loss: 9.9548 - val_acc: 0.3824\n",
      "Epoch 9/10\n",
      "39900/39900 [==============================] - 15s 370us/step - loss: 9.4396 - acc: 0.4143 - val_loss: 9.2911 - val_acc: 0.4233\n",
      "Epoch 10/10\n",
      "39900/39900 [==============================] - 16s 403us/step - loss: 9.5785 - acc: 0.4057 - val_loss: 9.9088 - val_acc: 0.3852\n"
     ]
    }
   ],
   "source": [
    "history = train(20, (4, 4), epochs=10)"
   ]
  },
  {
   "cell_type": "code",
   "execution_count": 21,
   "metadata": {},
   "outputs": [
    {
     "data": {
      "image/png": "[encoded data removed]",
      "text/plain": [
       "<matplotlib.figure.Figure at 0x7efcb8518048>"
      ]
     },
     "metadata": {},
     "output_type": "display_data"
    }
   ],
   "source": [
    "pd.DataFrame(history.history)[['loss', 'val_loss']].plot(figsize=(20, 5));"
   ]
  },
  {
   "cell_type": "code",
   "execution_count": 23,
   "metadata": {},
   "outputs": [
    {
     "data": {
      "image/png": "[encoded data removed]",
      "text/plain": [
       "<matplotlib.figure.Figure at 0x7efcb8476860>"
      ]
     },
     "metadata": {},
     "output_type": "display_data"
    }
   ],
   "source": [
    "pd.DataFrame(history.history)[['acc', 'val_acc']].plot(figsize=(20, 5));"
   ]
  },
  {
   "cell_type": "code",
   "execution_count": 48,
   "metadata": {},
   "outputs": [
    {
     "data": {
      "image/svg+xml": [
       "<svg height=\"138pt\" viewBox=\"0.00 0.00 316.00 138.00\" width=\"316pt\" xmlns=\"http://www.w3.org/2000/svg\" xmlns:xlink=\"http://www.w3.org/1999/xlink\">\n",
       "<g class=\"graph\" id=\"graph0\" transform=\"scale(1 1) rotate(0) translate(4 134)\">\n",
       "<title>G</title>\n",
       "<polygon fill=\"white\" points=\"-4,4 -4,-134 312,-134 312,4 -4,4\" stroke=\"none\"/>\n",
       "<!-- 139622478435328 -->\n",
       "<g class=\"node\" id=\"node1\"><title>139622478435328</title>\n",
       "<polygon fill=\"none\" points=\"0,-83.5 0,-129.5 308,-129.5 308,-83.5 0,-83.5\" stroke=\"black\"/>\n",
       "<text font-family=\"Times,serif\" font-size=\"14.00\" text-anchor=\"middle\" x=\"85\" y=\"-102.8\">dense_22_input: InputLayer</text>\n",
       "<polyline fill=\"none\" points=\"170,-83.5 170,-129.5 \" stroke=\"black\"/>\n",
       "<text font-family=\"Times,serif\" font-size=\"14.00\" text-anchor=\"middle\" x=\"197.5\" y=\"-114.3\">input:</text>\n",
       "<polyline fill=\"none\" points=\"170,-106.5 225,-106.5 \" stroke=\"black\"/>\n",
       "<text font-family=\"Times,serif\" font-size=\"14.00\" text-anchor=\"middle\" x=\"197.5\" y=\"-91.3\">output:</text>\n",
       "<polyline fill=\"none\" points=\"225,-83.5 225,-129.5 \" stroke=\"black\"/>\n",
       "<text font-family=\"Times,serif\" font-size=\"14.00\" text-anchor=\"middle\" x=\"266.5\" y=\"-114.3\">(None, 784)</text>\n",
       "<polyline fill=\"none\" points=\"225,-106.5 308,-106.5 \" stroke=\"black\"/>\n",
       "<text font-family=\"Times,serif\" font-size=\"14.00\" text-anchor=\"middle\" x=\"266.5\" y=\"-91.3\">(None, 784)</text>\n",
       "</g>\n",
       "<!-- 139622478436560 -->\n",
       "<g class=\"node\" id=\"node2\"><title>139622478436560</title>\n",
       "<polygon fill=\"none\" points=\"30.5,-0.5 30.5,-46.5 277.5,-46.5 277.5,-0.5 30.5,-0.5\" stroke=\"black\"/>\n",
       "<text font-family=\"Times,serif\" font-size=\"14.00\" text-anchor=\"middle\" x=\"85\" y=\"-19.8\">dense_22: Dense</text>\n",
       "<polyline fill=\"none\" points=\"139.5,-0.5 139.5,-46.5 \" stroke=\"black\"/>\n",
       "<text font-family=\"Times,serif\" font-size=\"14.00\" text-anchor=\"middle\" x=\"167\" y=\"-31.3\">input:</text>\n",
       "<polyline fill=\"none\" points=\"139.5,-23.5 194.5,-23.5 \" stroke=\"black\"/>\n",
       "<text font-family=\"Times,serif\" font-size=\"14.00\" text-anchor=\"middle\" x=\"167\" y=\"-8.3\">output:</text>\n",
       "<polyline fill=\"none\" points=\"194.5,-0.5 194.5,-46.5 \" stroke=\"black\"/>\n",
       "<text font-family=\"Times,serif\" font-size=\"14.00\" text-anchor=\"middle\" x=\"236\" y=\"-31.3\">(None, 784)</text>\n",
       "<polyline fill=\"none\" points=\"194.5,-23.5 277.5,-23.5 \" stroke=\"black\"/>\n",
       "<text font-family=\"Times,serif\" font-size=\"14.00\" text-anchor=\"middle\" x=\"236\" y=\"-8.3\">(None, 10)</text>\n",
       "</g>\n",
       "<!-- 139622478435328&#45;&gt;139622478436560 -->\n",
       "<g class=\"edge\" id=\"edge1\"><title>139622478435328-&gt;139622478436560</title>\n",
       "<path d=\"M154,-83.3664C154,-75.1516 154,-65.6579 154,-56.7252\" fill=\"none\" stroke=\"black\"/>\n",
       "<polygon fill=\"black\" points=\"157.5,-56.6068 154,-46.6068 150.5,-56.6069 157.5,-56.6068\" stroke=\"black\"/>\n",
       "</g>\n",
       "</g>\n",
       "</svg>"
      ],
      "text/plain": [
       "<IPython.core.display.SVG object>"
      ]
     },
     "metadata": {},
     "output_type": "display_data"
    },
    {
     "name": "stdout",
     "output_type": "stream",
     "text": [
      "_________________________________________________________________\n",
      "Layer (type)                 Output Shape              Param #   \n",
      "=================================================================\n",
      "dense_22 (Dense)             (None, 10)                7850      \n",
      "=================================================================\n",
      "Total params: 7,850\n",
      "Trainable params: 7,850\n",
      "Non-trainable params: 0\n",
      "_________________________________________________________________\n"
     ]
    }
   ],
   "source": [
    "def softmax():\n",
    "    m = Sequential()\n",
    "    m.add(Dense(10, activation='softmax', input_shape=(28**2,)))\n",
    "    m.compile(loss='categorical_crossentropy', optimizer='adam', metrics=['accuracy'])\n",
    "    return m\n",
    "          \n",
    "m = softmax()\n",
    "utils.plot(m, True)\n",
    "m.summary()"
   ]
  },
  {
   "cell_type": "code",
   "execution_count": 49,
   "metadata": {},
   "outputs": [
    {
     "name": "stdout",
     "output_type": "stream",
     "text": [
      "Epoch 1/10\n",
      "42000/42000 [==============================] - 5s 117us/step - loss: 10.2228 - acc: 0.3617\n",
      "Epoch 2/10\n",
      "42000/42000 [==============================] - 5s 112us/step - loss: 9.1225 - acc: 0.4318\n",
      "Epoch 3/10\n",
      "42000/42000 [==============================] - 5s 108us/step - loss: 9.0507 - acc: 0.4368\n",
      "Epoch 4/10\n",
      "42000/42000 [==============================] - 4s 106us/step - loss: 9.0185 - acc: 0.4389\n",
      "Epoch 5/10\n",
      "42000/42000 [==============================] - 4s 107us/step - loss: 8.9624 - acc: 0.4427\n",
      "Epoch 6/10\n",
      "42000/42000 [==============================] - 4s 106us/step - loss: 9.0046 - acc: 0.4402\n",
      "Epoch 7/10\n",
      "42000/42000 [==============================] - 5s 109us/step - loss: 8.9676 - acc: 0.4427\n",
      "Epoch 8/10\n",
      "42000/42000 [==============================] - 5s 109us/step - loss: 8.9547 - acc: 0.4435\n",
      "Epoch 9/10\n",
      "42000/42000 [==============================] - 5s 107us/step - loss: 8.9064 - acc: 0.4465\n",
      "Epoch 10/10\n",
      "42000/42000 [==============================] - 5s 109us/step - loss: 8.9111 - acc: 0.4466\n"
     ]
    }
   ],
   "source": [
    "m.fit(X.reshape((42000, 28**2)), y, epochs=10);"
   ]
  },
  {
   "cell_type": "code",
   "execution_count": 54,
   "metadata": {},
   "outputs": [
    {
     "name": "stdout",
     "output_type": "stream",
     "text": [
      "Successfully submitted to Digit Recognizer\n",
      "Sleeping 30 secs before checking for score...\n",
      "Model accuracy is 0.42714\n"
     ]
    },
    {
     "data": {
      "text/plain": [
       "0.42714"
      ]
     },
     "execution_count": 54,
     "metadata": {},
     "output_type": "execute_result"
    }
   ],
   "source": [
    "import numpy as np\n",
    "\n",
    "submission_name = \"simple_softmax\"\n",
    "\n",
    "test = pd.read_csv(utils.TEST)\n",
    "X_test = test.values.reshape((test.shape[0], 28**2))\n",
    "\n",
    "pd.DataFrame({\n",
    "                'ImageId': range(1, 28001),\n",
    "                'Label': np.argmax(m.predict(X_test), axis=-1)}\n",
    "                ).to_csv(f\"{utils.SUBMISSION_PATH}/{submission_name}.csv\", index=False)\n",
    "\n",
    "acc = utils.submit_to_server(submission_name)\n",
    "acc"
   ]
  },
  {
   "cell_type": "code",
   "execution_count": 71,
   "metadata": {},
   "outputs": [],
   "source": [
    "def shallow_simple_model():\n",
    "    m = Sequential()\n",
    "    \n",
    "    m.add(Conv2D(10, (4,4), input_shape=(28,28,1,)))\n",
    "    m.add(MaxPool2D())\n",
    "    m.add(Dropout(0.05))\n",
    "    m.add(Flatten())\n",
    "    m.add(Dense(10, activation='softmax'))\n",
    "    \n",
    "    m.compile(loss='categorical_crossentropy', optimizer='adam', metrics=['accuracy'])\n",
    "    return m"
   ]
  },
  {
   "cell_type": "code",
   "execution_count": 74,
   "metadata": {},
   "outputs": [
    {
     "name": "stdout",
     "output_type": "stream",
     "text": [
      "_________________________________________________________________\n",
      "Layer (type)                 Output Shape              Param #   \n",
      "=================================================================\n",
      "conv2d_33 (Conv2D)           (None, 25, 25, 10)        170       \n",
      "_________________________________________________________________\n",
      "max_pooling2d_17 (MaxPooling (None, 12, 12, 10)        0         \n",
      "_________________________________________________________________\n",
      "dropout_17 (Dropout)         (None, 12, 12, 10)        0         \n",
      "_________________________________________________________________\n",
      "flatten_27 (Flatten)         (None, 1440)              0         \n",
      "_________________________________________________________________\n",
      "dense_33 (Dense)             (None, 10)                14410     \n",
      "=================================================================\n",
      "Total params: 14,580\n",
      "Trainable params: 14,580\n",
      "Non-trainable params: 0\n",
      "_________________________________________________________________\n"
     ]
    }
   ],
   "source": [
    "m = shallow_simple_model()\n",
    "m.summary()"
   ]
  },
  {
   "cell_type": "code",
   "execution_count": 73,
   "metadata": {},
   "outputs": [
    {
     "name": "stdout",
     "output_type": "stream",
     "text": [
      "Train on 39900 samples, validate on 2100 samples\n",
      "Epoch 1/3\n",
      "39900/39900 [==============================] - 16s 399us/step - loss: 7.8693 - acc: 0.5073 - val_loss: 7.2704 - val_acc: 0.5462\n",
      "Epoch 2/3\n",
      "39900/39900 [==============================] - 15s 369us/step - loss: 7.0041 - acc: 0.5634 - val_loss: 7.0543 - val_acc: 0.5610\n",
      "Epoch 3/3\n",
      "39900/39900 [==============================] - 15s 378us/step - loss: 6.9032 - acc: 0.5701 - val_loss: 6.9088 - val_acc: 0.5705\n"
     ]
    }
   ],
   "source": [
    "h = m.fit(X, y, epochs=3, validation_split=0.05)"
   ]
  },
  {
   "cell_type": "code",
   "execution_count": 75,
   "metadata": {},
   "outputs": [
    {
     "name": "stdout",
     "output_type": "stream",
     "text": [
      "Train on 39900 samples, validate on 2100 samples\n",
      "Epoch 1/3\n",
      "39900/39900 [==============================] - 15s 364us/step - loss: 7.0791 - acc: 0.5530 - val_loss: 5.1230 - val_acc: 0.6738\n",
      "Epoch 2/3\n",
      "39900/39900 [==============================] - 14s 353us/step - loss: 3.3588 - acc: 0.7849 - val_loss: 3.3226 - val_acc: 0.7848\n",
      "Epoch 3/3\n",
      "39900/39900 [==============================] - 14s 351us/step - loss: 2.6719 - acc: 0.8287 - val_loss: 2.9740 - val_acc: 0.8095\n"
     ]
    }
   ],
   "source": [
    "def shallow_simple_model_v2():\n",
    "    m = Sequential()\n",
    "    \n",
    "    m.add(Conv2D(10, (3,3), input_shape=(28,28,1,)))\n",
    "    m.add(MaxPool2D())\n",
    "    m.add(Dropout(0.01))\n",
    "    m.add(Flatten())\n",
    "    m.add(Dense(10, activation='softmax'))\n",
    "    \n",
    "    m.compile(loss='categorical_crossentropy', optimizer='adam', metrics=['accuracy'])\n",
    "    return m\n",
    "\n",
    "m = shallow_simple_model_v2()\n",
    "h = m.fit(X, y, epochs=3, validation_split=0.05)"
   ]
  },
  {
   "cell_type": "code",
   "execution_count": 93,
   "metadata": {},
   "outputs": [
    {
     "name": "stdout",
     "output_type": "stream",
     "text": [
      "_________________________________________________________________\n",
      "Layer (type)                 Output Shape              Param #   \n",
      "=================================================================\n",
      "conv2d_56 (Conv2D)           (None, 26, 26, 10)        100       \n",
      "_________________________________________________________________\n",
      "max_pooling2d_37 (MaxPooling (None, 13, 13, 10)        0         \n",
      "_________________________________________________________________\n",
      "dropout_31 (Dropout)         (None, 13, 13, 10)        0         \n",
      "_________________________________________________________________\n",
      "conv2d_57 (Conv2D)           (None, 11, 11, 10)        910       \n",
      "_________________________________________________________________\n",
      "max_pooling2d_38 (MaxPooling (None, 5, 5, 10)          0         \n",
      "_________________________________________________________________\n",
      "dropout_32 (Dropout)         (None, 5, 5, 10)          0         \n",
      "_________________________________________________________________\n",
      "conv2d_58 (Conv2D)           (None, 3, 3, 10)          910       \n",
      "_________________________________________________________________\n",
      "max_pooling2d_39 (MaxPooling (None, 1, 1, 10)          0         \n",
      "_________________________________________________________________\n",
      "dropout_33 (Dropout)         (None, 1, 1, 10)          0         \n",
      "_________________________________________________________________\n",
      "flatten_34 (Flatten)         (None, 10)                0         \n",
      "_________________________________________________________________\n",
      "dense_40 (Dense)             (None, 10)                110       \n",
      "=================================================================\n",
      "Total params: 2,030\n",
      "Trainable params: 2,030\n",
      "Non-trainable params: 0\n",
      "_________________________________________________________________\n",
      "None\n",
      "Epoch 1/5\n",
      "42000/42000 [==============================] - 21s 490us/step - loss: 2.9507 - acc: 0.6548\n",
      "Epoch 2/5\n",
      "42000/42000 [==============================] - 19s 454us/step - loss: 0.4747 - acc: 0.8616\n",
      "Epoch 3/5\n",
      "42000/42000 [==============================] - 20s 473us/step - loss: 0.3293 - acc: 0.9016\n",
      "Epoch 4/5\n",
      "42000/42000 [==============================] - 19s 459us/step - loss: 0.2639 - acc: 0.9185\n",
      "Epoch 5/5\n",
      "42000/42000 [==============================] - 20s 472us/step - loss: 0.2190 - acc: 0.9322\n"
     ]
    },
    {
     "data": {
      "text/plain": [
       "<keras.callbacks.History at 0x7efc5cf656a0>"
      ]
     },
     "execution_count": 93,
     "metadata": {},
     "output_type": "execute_result"
    }
   ],
   "source": [
    "def simple_model():\n",
    "    m = Sequential()\n",
    "    \n",
    "    m.add(Conv2D(10, (3,3), input_shape=(28,28,1,)))\n",
    "    m.add(MaxPool2D())\n",
    "    m.add(Dropout(0.01))\n",
    "    \n",
    "    m.add(Conv2D(10, (3,3), input_shape=(28,28,1,)))\n",
    "    m.add(MaxPool2D())\n",
    "    m.add(Dropout(0.01))\n",
    "    \n",
    "    m.add(Conv2D(10, (3,3), input_shape=(28,28,1,)))\n",
    "    m.add(MaxPool2D())\n",
    "    m.add(Dropout(0.01))\n",
    "    \n",
    "    m.add(Flatten())\n",
    "    m.add(Dense(10, activation='softmax'))\n",
    "    \n",
    "    m.compile(loss='categorical_crossentropy', optimizer='adam', metrics=['accuracy'])\n",
    "    return m\n",
    "\n",
    "m = simple_model()\n",
    "print(m.summary())\n",
    "m.fit(X, y, epochs=5)"
   ]
  },
  {
   "cell_type": "code",
   "execution_count": 94,
   "metadata": {},
   "outputs": [
    {
     "name": "stdout",
     "output_type": "stream",
     "text": [
      "Successfully submitted to Digit Recognizer\n",
      "Sleeping 30 secs before checking for score...\n",
      "Model accuracy is 0.93028\n"
     ]
    },
    {
     "data": {
      "text/plain": [
       "0.93028"
      ]
     },
     "execution_count": 94,
     "metadata": {},
     "output_type": "execute_result"
    }
   ],
   "source": [
    "utils.submit(m, \"keras_simple_3_blocks_conv_max_pool_dropout\", submit_to_kaggle=True)"
   ]
  },
  {
   "cell_type": "code",
   "execution_count": 96,
   "metadata": {},
   "outputs": [
    {
     "data": {
      "text/html": [
       "<div>\n",
       "<style scoped>\n",
       "    .dataframe tbody tr th:only-of-type {\n",
       "        vertical-align: middle;\n",
       "    }\n",
       "\n",
       "    .dataframe tbody tr th {\n",
       "        vertical-align: top;\n",
       "    }\n",
       "\n",
       "    .dataframe thead th {\n",
       "        text-align: right;\n",
       "    }\n",
       "</style>\n",
       "<table border=\"1\" class=\"dataframe\">\n",
       "  <thead>\n",
       "    <tr style=\"text-align: right;\">\n",
       "      <th></th>\n",
       "      <th>date</th>\n",
       "      <th>accuracy</th>\n",
       "    </tr>\n",
       "    <tr>\n",
       "      <th>submission</th>\n",
       "      <th></th>\n",
       "      <th></th>\n",
       "    </tr>\n",
       "  </thead>\n",
       "  <tbody>\n",
       "    <tr>\n",
       "      <th>keras_simple_3_blocks_conv_max_pool_dropout.csv</th>\n",
       "      <td>2018-11-13 02:45:23</td>\n",
       "      <td>0.93028</td>\n",
       "    </tr>\n",
       "    <tr>\n",
       "      <th>simple_softmax.csv</th>\n",
       "      <td>2018-11-13 02:23:51</td>\n",
       "      <td>0.42714</td>\n",
       "    </tr>\n",
       "    <tr>\n",
       "      <th>keras_model_1_100_epochs.csv</th>\n",
       "      <td>2018-11-13 01:52:07</td>\n",
       "      <td>0.64814</td>\n",
       "    </tr>\n",
       "    <tr>\n",
       "      <th>keras_model_1_11_epochs.csv</th>\n",
       "      <td>2018-11-13 01:29:00</td>\n",
       "      <td>0.62214</td>\n",
       "    </tr>\n",
       "    <tr>\n",
       "      <th>keras_model_1.csv</th>\n",
       "      <td>2018-11-13 01:09:58</td>\n",
       "      <td>0.52800</td>\n",
       "    </tr>\n",
       "    <tr>\n",
       "      <th>dummy_cuadrant_resolution_4.csv</th>\n",
       "      <td>2018-11-09 04:11:23</td>\n",
       "      <td>0.88485</td>\n",
       "    </tr>\n",
       "    <tr>\n",
       "      <th>dummy_2_features_log_reg.csv</th>\n",
       "      <td>2018-11-09 03:37:48</td>\n",
       "      <td>0.12842</td>\n",
       "    </tr>\n",
       "    <tr>\n",
       "      <th>dummy_all_ones.csv</th>\n",
       "      <td>2018-11-09 02:43:28</td>\n",
       "      <td>0.11614</td>\n",
       "    </tr>\n",
       "    <tr>\n",
       "      <th>sample_submission.csv</th>\n",
       "      <td>2018-11-09 02:22:35</td>\n",
       "      <td>0.10014</td>\n",
       "    </tr>\n",
       "    <tr>\n",
       "      <th>sample_submission.csv</th>\n",
       "      <td>2018-11-09 02:21:10</td>\n",
       "      <td>0.10014</td>\n",
       "    </tr>\n",
       "  </tbody>\n",
       "</table>\n",
       "</div>"
      ],
      "text/plain": [
       "                                                               date  accuracy\n",
       "submission                                                                   \n",
       "keras_simple_3_blocks_conv_max_pool_dropout.csv 2018-11-13 02:45:23   0.93028\n",
       "simple_softmax.csv                              2018-11-13 02:23:51   0.42714\n",
       "keras_model_1_100_epochs.csv                    2018-11-13 01:52:07   0.64814\n",
       "keras_model_1_11_epochs.csv                     2018-11-13 01:29:00   0.62214\n",
       "keras_model_1.csv                               2018-11-13 01:09:58   0.52800\n",
       "dummy_cuadrant_resolution_4.csv                 2018-11-09 04:11:23   0.88485\n",
       "dummy_2_features_log_reg.csv                    2018-11-09 03:37:48   0.12842\n",
       "dummy_all_ones.csv                              2018-11-09 02:43:28   0.11614\n",
       "sample_submission.csv                           2018-11-09 02:22:35   0.10014\n",
       "sample_submission.csv                           2018-11-09 02:21:10   0.10014"
      ]
     },
     "execution_count": 96,
     "metadata": {},
     "output_type": "execute_result"
    }
   ],
   "source": [
    "utils.check_submissions()"
   ]
  },
  {
   "cell_type": "code",
   "execution_count": 97,
   "metadata": {},
   "outputs": [
    {
     "name": "stdout",
     "output_type": "stream",
     "text": [
      "Epoch 1/10\n",
      "42000/42000 [==============================] - 19s 451us/step - loss: 0.1977 - acc: 0.9400\n",
      "Epoch 2/10\n",
      "42000/42000 [==============================] - 19s 451us/step - loss: 0.1784 - acc: 0.9463\n",
      "Epoch 3/10\n",
      "42000/42000 [==============================] - 19s 451us/step - loss: 0.1696 - acc: 0.9473\n",
      "Epoch 4/10\n",
      "42000/42000 [==============================] - 19s 450us/step - loss: 0.1580 - acc: 0.9516\n",
      "Epoch 5/10\n",
      "42000/42000 [==============================] - 19s 451us/step - loss: 0.1512 - acc: 0.9541\n",
      "Epoch 6/10\n",
      "42000/42000 [==============================] - 19s 452us/step - loss: 0.1467 - acc: 0.9537\n",
      "Epoch 7/10\n",
      "42000/42000 [==============================] - 19s 457us/step - loss: 0.1384 - acc: 0.9571\n",
      "Epoch 8/10\n",
      "42000/42000 [==============================] - 19s 456us/step - loss: 0.1343 - acc: 0.9584\n",
      "Epoch 9/10\n",
      "42000/42000 [==============================] - 20s 474us/step - loss: 0.1334 - acc: 0.9584\n",
      "Epoch 10/10\n",
      "42000/42000 [==============================] - 19s 458us/step - loss: 0.1295 - acc: 0.9600\n",
      "Successfully submitted to Digit Recognizer\n",
      "Sleeping 30 secs before checking for score...\n"
     ]
    },
    {
     "ename": "KeyError",
     "evalue": "'the label [keras_simple_3_blocks_conv_max_pool_dropout_15_epochs.csv] is not in the [index]'",
     "output_type": "error",
     "traceback": [
      "\u001b[0;31m---------------------------------------------------------------------------\u001b[0m",
      "\u001b[0;31mKeyError\u001b[0m                                  Traceback (most recent call last)",
      "\u001b[0;32m~/anaconda3/lib/python3.6/site-packages/pandas/core/indexing.py\u001b[0m in \u001b[0;36m_has_valid_type\u001b[0;34m(self, key, axis)\u001b[0m\n\u001b[1;32m   1505\u001b[0m                 \u001b[0;32mif\u001b[0m \u001b[0;32mnot\u001b[0m \u001b[0max\u001b[0m\u001b[0;34m.\u001b[0m\u001b[0mcontains\u001b[0m\u001b[0;34m(\u001b[0m\u001b[0mkey\u001b[0m\u001b[0;34m)\u001b[0m\u001b[0;34m:\u001b[0m\u001b[0;34m\u001b[0m\u001b[0m\n\u001b[0;32m-> 1506\u001b[0;31m                     \u001b[0merror\u001b[0m\u001b[0;34m(\u001b[0m\u001b[0;34m)\u001b[0m\u001b[0;34m\u001b[0m\u001b[0m\n\u001b[0m\u001b[1;32m   1507\u001b[0m             \u001b[0;32mexcept\u001b[0m \u001b[0mTypeError\u001b[0m \u001b[0;32mas\u001b[0m \u001b[0me\u001b[0m\u001b[0;34m:\u001b[0m\u001b[0;34m\u001b[0m\u001b[0m\n",
      "\u001b[0;32m~/anaconda3/lib/python3.6/site-packages/pandas/core/indexing.py\u001b[0m in \u001b[0;36merror\u001b[0;34m()\u001b[0m\n\u001b[1;32m   1500\u001b[0m                                .format(key=key,\n\u001b[0;32m-> 1501\u001b[0;31m                                        axis=self.obj._get_axis_name(axis)))\n\u001b[0m\u001b[1;32m   1502\u001b[0m \u001b[0;34m\u001b[0m\u001b[0m\n",
      "\u001b[0;31mKeyError\u001b[0m: 'the label [keras_simple_3_blocks_conv_max_pool_dropout_15_epochs.csv] is not in the [index]'",
      "\nDuring handling of the above exception, another exception occurred:\n",
      "\u001b[0;31mKeyError\u001b[0m                                  Traceback (most recent call last)",
      "\u001b[0;32m<ipython-input-97-855cb3d72bfe>\u001b[0m in \u001b[0;36m<module>\u001b[0;34m()\u001b[0m\n\u001b[1;32m      1\u001b[0m \u001b[0mm\u001b[0m\u001b[0;34m.\u001b[0m\u001b[0mfit\u001b[0m\u001b[0;34m(\u001b[0m\u001b[0mX\u001b[0m\u001b[0;34m,\u001b[0m \u001b[0my\u001b[0m\u001b[0;34m,\u001b[0m \u001b[0mepochs\u001b[0m\u001b[0;34m=\u001b[0m\u001b[0;36m10\u001b[0m\u001b[0;34m)\u001b[0m\u001b[0;34m\u001b[0m\u001b[0m\n\u001b[0;32m----> 2\u001b[0;31m \u001b[0mutils\u001b[0m\u001b[0;34m.\u001b[0m\u001b[0msubmit\u001b[0m\u001b[0;34m(\u001b[0m\u001b[0mm\u001b[0m\u001b[0;34m,\u001b[0m \u001b[0;34m\"keras_simple_3_blocks_conv_max_pool_dropout_15_epochs\"\u001b[0m\u001b[0;34m,\u001b[0m \u001b[0msubmit_to_kaggle\u001b[0m\u001b[0;34m=\u001b[0m\u001b[0;32mTrue\u001b[0m\u001b[0;34m)\u001b[0m\u001b[0;34m\u001b[0m\u001b[0m\n\u001b[0m\u001b[1;32m      3\u001b[0m \u001b[0mutils\u001b[0m\u001b[0;34m.\u001b[0m\u001b[0mcheck_submissions\u001b[0m\u001b[0;34m(\u001b[0m\u001b[0;34m)\u001b[0m\u001b[0;34m\u001b[0m\u001b[0m\n",
      "\u001b[0;32m~/git/notebooks/deep-learning-computer-vision-project/code/utils.py\u001b[0m in \u001b[0;36msubmit\u001b[0;34m(model, submission_name, submit_to_kaggle)\u001b[0m\n\u001b[1;32m     68\u001b[0m \u001b[0;34m\u001b[0m\u001b[0m\n\u001b[1;32m     69\u001b[0m     \u001b[0;32mif\u001b[0m \u001b[0msubmit_to_kaggle\u001b[0m\u001b[0;34m:\u001b[0m\u001b[0;34m\u001b[0m\u001b[0m\n\u001b[0;32m---> 70\u001b[0;31m         \u001b[0macc\u001b[0m \u001b[0;34m=\u001b[0m \u001b[0msubmit_to_server\u001b[0m\u001b[0;34m(\u001b[0m\u001b[0msubmission_name\u001b[0m\u001b[0;34m)\u001b[0m\u001b[0;34m\u001b[0m\u001b[0m\n\u001b[0m\u001b[1;32m     71\u001b[0m         \u001b[0;32mreturn\u001b[0m \u001b[0macc\u001b[0m\u001b[0;34m\u001b[0m\u001b[0m\n\u001b[1;32m     72\u001b[0m \u001b[0;34m\u001b[0m\u001b[0m\n",
      "\u001b[0;32m~/git/notebooks/deep-learning-computer-vision-project/code/utils.py\u001b[0m in \u001b[0;36msubmit_to_server\u001b[0;34m(submission, check)\u001b[0m\n\u001b[1;32m     54\u001b[0m         \u001b[0mtime\u001b[0m\u001b[0;34m.\u001b[0m\u001b[0msleep\u001b[0m\u001b[0;34m(\u001b[0m\u001b[0;36m30\u001b[0m\u001b[0;34m)\u001b[0m\u001b[0;34m\u001b[0m\u001b[0m\n\u001b[1;32m     55\u001b[0m         \u001b[0msubmissions\u001b[0m \u001b[0;34m=\u001b[0m \u001b[0mcheck_submissions\u001b[0m\u001b[0;34m(\u001b[0m\u001b[0;34m)\u001b[0m\u001b[0;34m\u001b[0m\u001b[0m\n\u001b[0;32m---> 56\u001b[0;31m         \u001b[0macc\u001b[0m \u001b[0;34m=\u001b[0m \u001b[0msubmissions\u001b[0m\u001b[0;34m.\u001b[0m\u001b[0mloc\u001b[0m\u001b[0;34m[\u001b[0m\u001b[0;34mf\"{submission}.csv\"\u001b[0m\u001b[0;34m,\u001b[0m \u001b[0;34m\"accuracy\"\u001b[0m\u001b[0;34m]\u001b[0m\u001b[0;34m\u001b[0m\u001b[0m\n\u001b[0m\u001b[1;32m     57\u001b[0m         \u001b[0mprint\u001b[0m\u001b[0;34m(\u001b[0m\u001b[0;34mf\"Model accuracy is {acc}\"\u001b[0m\u001b[0;34m)\u001b[0m\u001b[0;34m\u001b[0m\u001b[0m\n\u001b[1;32m     58\u001b[0m         \u001b[0;32mreturn\u001b[0m \u001b[0macc\u001b[0m\u001b[0;34m\u001b[0m\u001b[0m\n",
      "\u001b[0;32m~/anaconda3/lib/python3.6/site-packages/pandas/core/indexing.py\u001b[0m in \u001b[0;36m__getitem__\u001b[0;34m(self, key)\u001b[0m\n\u001b[1;32m   1365\u001b[0m             \u001b[0;32mexcept\u001b[0m \u001b[0;34m(\u001b[0m\u001b[0mKeyError\u001b[0m\u001b[0;34m,\u001b[0m \u001b[0mIndexError\u001b[0m\u001b[0;34m)\u001b[0m\u001b[0;34m:\u001b[0m\u001b[0;34m\u001b[0m\u001b[0m\n\u001b[1;32m   1366\u001b[0m                 \u001b[0;32mpass\u001b[0m\u001b[0;34m\u001b[0m\u001b[0m\n\u001b[0;32m-> 1367\u001b[0;31m             \u001b[0;32mreturn\u001b[0m \u001b[0mself\u001b[0m\u001b[0;34m.\u001b[0m\u001b[0m_getitem_tuple\u001b[0m\u001b[0;34m(\u001b[0m\u001b[0mkey\u001b[0m\u001b[0;34m)\u001b[0m\u001b[0;34m\u001b[0m\u001b[0m\n\u001b[0m\u001b[1;32m   1368\u001b[0m         \u001b[0;32melse\u001b[0m\u001b[0;34m:\u001b[0m\u001b[0;34m\u001b[0m\u001b[0m\n\u001b[1;32m   1369\u001b[0m             \u001b[0;31m# we by definition only have the 0th axis\u001b[0m\u001b[0;34m\u001b[0m\u001b[0;34m\u001b[0m\u001b[0m\n",
      "\u001b[0;32m~/anaconda3/lib/python3.6/site-packages/pandas/core/indexing.py\u001b[0m in \u001b[0;36m_getitem_tuple\u001b[0;34m(self, tup)\u001b[0m\n\u001b[1;32m    856\u001b[0m     \u001b[0;32mdef\u001b[0m \u001b[0m_getitem_tuple\u001b[0m\u001b[0;34m(\u001b[0m\u001b[0mself\u001b[0m\u001b[0;34m,\u001b[0m \u001b[0mtup\u001b[0m\u001b[0;34m)\u001b[0m\u001b[0;34m:\u001b[0m\u001b[0;34m\u001b[0m\u001b[0m\n\u001b[1;32m    857\u001b[0m         \u001b[0;32mtry\u001b[0m\u001b[0;34m:\u001b[0m\u001b[0;34m\u001b[0m\u001b[0m\n\u001b[0;32m--> 858\u001b[0;31m             \u001b[0;32mreturn\u001b[0m \u001b[0mself\u001b[0m\u001b[0;34m.\u001b[0m\u001b[0m_getitem_lowerdim\u001b[0m\u001b[0;34m(\u001b[0m\u001b[0mtup\u001b[0m\u001b[0;34m)\u001b[0m\u001b[0;34m\u001b[0m\u001b[0m\n\u001b[0m\u001b[1;32m    859\u001b[0m         \u001b[0;32mexcept\u001b[0m \u001b[0mIndexingError\u001b[0m\u001b[0;34m:\u001b[0m\u001b[0;34m\u001b[0m\u001b[0m\n\u001b[1;32m    860\u001b[0m             \u001b[0;32mpass\u001b[0m\u001b[0;34m\u001b[0m\u001b[0m\n",
      "\u001b[0;32m~/anaconda3/lib/python3.6/site-packages/pandas/core/indexing.py\u001b[0m in \u001b[0;36m_getitem_lowerdim\u001b[0;34m(self, tup)\u001b[0m\n\u001b[1;32m    989\u001b[0m         \u001b[0;32mfor\u001b[0m \u001b[0mi\u001b[0m\u001b[0;34m,\u001b[0m \u001b[0mkey\u001b[0m \u001b[0;32min\u001b[0m \u001b[0menumerate\u001b[0m\u001b[0;34m(\u001b[0m\u001b[0mtup\u001b[0m\u001b[0;34m)\u001b[0m\u001b[0;34m:\u001b[0m\u001b[0;34m\u001b[0m\u001b[0m\n\u001b[1;32m    990\u001b[0m             \u001b[0;32mif\u001b[0m \u001b[0mis_label_like\u001b[0m\u001b[0;34m(\u001b[0m\u001b[0mkey\u001b[0m\u001b[0;34m)\u001b[0m \u001b[0;32mor\u001b[0m \u001b[0misinstance\u001b[0m\u001b[0;34m(\u001b[0m\u001b[0mkey\u001b[0m\u001b[0;34m,\u001b[0m \u001b[0mtuple\u001b[0m\u001b[0;34m)\u001b[0m\u001b[0;34m:\u001b[0m\u001b[0;34m\u001b[0m\u001b[0m\n\u001b[0;32m--> 991\u001b[0;31m                 \u001b[0msection\u001b[0m \u001b[0;34m=\u001b[0m \u001b[0mself\u001b[0m\u001b[0;34m.\u001b[0m\u001b[0m_getitem_axis\u001b[0m\u001b[0;34m(\u001b[0m\u001b[0mkey\u001b[0m\u001b[0;34m,\u001b[0m \u001b[0maxis\u001b[0m\u001b[0;34m=\u001b[0m\u001b[0mi\u001b[0m\u001b[0;34m)\u001b[0m\u001b[0;34m\u001b[0m\u001b[0m\n\u001b[0m\u001b[1;32m    992\u001b[0m \u001b[0;34m\u001b[0m\u001b[0m\n\u001b[1;32m    993\u001b[0m                 \u001b[0;31m# we have yielded a scalar ?\u001b[0m\u001b[0;34m\u001b[0m\u001b[0;34m\u001b[0m\u001b[0m\n",
      "\u001b[0;32m~/anaconda3/lib/python3.6/site-packages/pandas/core/indexing.py\u001b[0m in \u001b[0;36m_getitem_axis\u001b[0;34m(self, key, axis)\u001b[0m\n\u001b[1;32m   1624\u001b[0m \u001b[0;34m\u001b[0m\u001b[0m\n\u001b[1;32m   1625\u001b[0m         \u001b[0;31m# fall thru to straight lookup\u001b[0m\u001b[0;34m\u001b[0m\u001b[0;34m\u001b[0m\u001b[0m\n\u001b[0;32m-> 1626\u001b[0;31m         \u001b[0mself\u001b[0m\u001b[0;34m.\u001b[0m\u001b[0m_has_valid_type\u001b[0m\u001b[0;34m(\u001b[0m\u001b[0mkey\u001b[0m\u001b[0;34m,\u001b[0m \u001b[0maxis\u001b[0m\u001b[0;34m)\u001b[0m\u001b[0;34m\u001b[0m\u001b[0m\n\u001b[0m\u001b[1;32m   1627\u001b[0m         \u001b[0;32mreturn\u001b[0m \u001b[0mself\u001b[0m\u001b[0;34m.\u001b[0m\u001b[0m_get_label\u001b[0m\u001b[0;34m(\u001b[0m\u001b[0mkey\u001b[0m\u001b[0;34m,\u001b[0m \u001b[0maxis\u001b[0m\u001b[0;34m=\u001b[0m\u001b[0maxis\u001b[0m\u001b[0;34m)\u001b[0m\u001b[0;34m\u001b[0m\u001b[0m\n\u001b[1;32m   1628\u001b[0m \u001b[0;34m\u001b[0m\u001b[0m\n",
      "\u001b[0;32m~/anaconda3/lib/python3.6/site-packages/pandas/core/indexing.py\u001b[0m in \u001b[0;36m_has_valid_type\u001b[0;34m(self, key, axis)\u001b[0m\n\u001b[1;32m   1512\u001b[0m                 \u001b[0;32mraise\u001b[0m\u001b[0;34m\u001b[0m\u001b[0m\n\u001b[1;32m   1513\u001b[0m             \u001b[0;32mexcept\u001b[0m\u001b[0;34m:\u001b[0m\u001b[0;34m\u001b[0m\u001b[0m\n\u001b[0;32m-> 1514\u001b[0;31m                 \u001b[0merror\u001b[0m\u001b[0;34m(\u001b[0m\u001b[0;34m)\u001b[0m\u001b[0;34m\u001b[0m\u001b[0m\n\u001b[0m\u001b[1;32m   1515\u001b[0m \u001b[0;34m\u001b[0m\u001b[0m\n\u001b[1;32m   1516\u001b[0m         \u001b[0;32mreturn\u001b[0m \u001b[0;32mTrue\u001b[0m\u001b[0;34m\u001b[0m\u001b[0m\n",
      "\u001b[0;32m~/anaconda3/lib/python3.6/site-packages/pandas/core/indexing.py\u001b[0m in \u001b[0;36merror\u001b[0;34m()\u001b[0m\n\u001b[1;32m   1499\u001b[0m                 raise KeyError(u\"the label [{key}] is not in the [{axis}]\"\n\u001b[1;32m   1500\u001b[0m                                .format(key=key,\n\u001b[0;32m-> 1501\u001b[0;31m                                        axis=self.obj._get_axis_name(axis)))\n\u001b[0m\u001b[1;32m   1502\u001b[0m \u001b[0;34m\u001b[0m\u001b[0m\n\u001b[1;32m   1503\u001b[0m             \u001b[0;32mtry\u001b[0m\u001b[0;34m:\u001b[0m\u001b[0;34m\u001b[0m\u001b[0m\n",
      "\u001b[0;31mKeyError\u001b[0m: 'the label [keras_simple_3_blocks_conv_max_pool_dropout_15_epochs.csv] is not in the [index]'"
     ]
    }
   ],
   "source": [
    "m.fit(X, y, epochs=10)\n",
    "utils.submit(m, \"keras_simple_3_blocks_conv_max_pool_dropout_15_epochs\", submit_to_kaggle=True)\n",
    "utils.check_submissions()"
   ]
  },
  {
   "cell_type": "markdown",
   "metadata": {},
   "source": [
    " ### 5 submissions per day limit!"
   ]
  },
  {
   "cell_type": "code",
   "execution_count": 98,
   "metadata": {},
   "outputs": [
    {
     "data": {
      "text/html": [
       "<div>\n",
       "<style scoped>\n",
       "    .dataframe tbody tr th:only-of-type {\n",
       "        vertical-align: middle;\n",
       "    }\n",
       "\n",
       "    .dataframe tbody tr th {\n",
       "        vertical-align: top;\n",
       "    }\n",
       "\n",
       "    .dataframe thead th {\n",
       "        text-align: right;\n",
       "    }\n",
       "</style>\n",
       "<table border=\"1\" class=\"dataframe\">\n",
       "  <thead>\n",
       "    <tr style=\"text-align: right;\">\n",
       "      <th></th>\n",
       "      <th>date</th>\n",
       "      <th>accuracy</th>\n",
       "    </tr>\n",
       "    <tr>\n",
       "      <th>submission</th>\n",
       "      <th></th>\n",
       "      <th></th>\n",
       "    </tr>\n",
       "  </thead>\n",
       "  <tbody>\n",
       "    <tr>\n",
       "      <th>keras_simple_3_blocks_conv_max_pool_dropout.csv</th>\n",
       "      <td>2018-11-13 02:45:23</td>\n",
       "      <td>0.93028</td>\n",
       "    </tr>\n",
       "    <tr>\n",
       "      <th>simple_softmax.csv</th>\n",
       "      <td>2018-11-13 02:23:51</td>\n",
       "      <td>0.42714</td>\n",
       "    </tr>\n",
       "    <tr>\n",
       "      <th>keras_model_1_100_epochs.csv</th>\n",
       "      <td>2018-11-13 01:52:07</td>\n",
       "      <td>0.64814</td>\n",
       "    </tr>\n",
       "    <tr>\n",
       "      <th>keras_model_1_11_epochs.csv</th>\n",
       "      <td>2018-11-13 01:29:00</td>\n",
       "      <td>0.62214</td>\n",
       "    </tr>\n",
       "    <tr>\n",
       "      <th>keras_model_1.csv</th>\n",
       "      <td>2018-11-13 01:09:58</td>\n",
       "      <td>0.52800</td>\n",
       "    </tr>\n",
       "    <tr>\n",
       "      <th>dummy_cuadrant_resolution_4.csv</th>\n",
       "      <td>2018-11-09 04:11:23</td>\n",
       "      <td>0.88485</td>\n",
       "    </tr>\n",
       "    <tr>\n",
       "      <th>dummy_2_features_log_reg.csv</th>\n",
       "      <td>2018-11-09 03:37:48</td>\n",
       "      <td>0.12842</td>\n",
       "    </tr>\n",
       "    <tr>\n",
       "      <th>dummy_all_ones.csv</th>\n",
       "      <td>2018-11-09 02:43:28</td>\n",
       "      <td>0.11614</td>\n",
       "    </tr>\n",
       "    <tr>\n",
       "      <th>sample_submission.csv</th>\n",
       "      <td>2018-11-09 02:22:35</td>\n",
       "      <td>0.10014</td>\n",
       "    </tr>\n",
       "    <tr>\n",
       "      <th>sample_submission.csv</th>\n",
       "      <td>2018-11-09 02:21:10</td>\n",
       "      <td>0.10014</td>\n",
       "    </tr>\n",
       "  </tbody>\n",
       "</table>\n",
       "</div>"
      ],
      "text/plain": [
       "                                                               date  accuracy\n",
       "submission                                                                   \n",
       "keras_simple_3_blocks_conv_max_pool_dropout.csv 2018-11-13 02:45:23   0.93028\n",
       "simple_softmax.csv                              2018-11-13 02:23:51   0.42714\n",
       "keras_model_1_100_epochs.csv                    2018-11-13 01:52:07   0.64814\n",
       "keras_model_1_11_epochs.csv                     2018-11-13 01:29:00   0.62214\n",
       "keras_model_1.csv                               2018-11-13 01:09:58   0.52800\n",
       "dummy_cuadrant_resolution_4.csv                 2018-11-09 04:11:23   0.88485\n",
       "dummy_2_features_log_reg.csv                    2018-11-09 03:37:48   0.12842\n",
       "dummy_all_ones.csv                              2018-11-09 02:43:28   0.11614\n",
       "sample_submission.csv                           2018-11-09 02:22:35   0.10014\n",
       "sample_submission.csv                           2018-11-09 02:21:10   0.10014"
      ]
     },
     "execution_count": 98,
     "metadata": {},
     "output_type": "execute_result"
    }
   ],
   "source": [
    "utils.check_submissions()"
   ]
  },
  {
   "cell_type": "code",
   "execution_count": null,
   "metadata": {},
   "outputs": [],
   "source": []
  }
 ],
 "metadata": {
  "kernelspec": {
   "display_name": "Python 3",
   "language": "python",
   "name": "python3"
  },
  "language_info": {
   "codemirror_mode": {
    "name": "ipython",
    "version": 3
   },
   "file_extension": ".py",
   "mimetype": "text/x-python",
   "name": "python",
   "nbconvert_exporter": "python",
   "pygments_lexer": "ipython3",
   "version": "3.6.4"
  }
 },
 "nbformat": 4,
 "nbformat_minor": 2
}
